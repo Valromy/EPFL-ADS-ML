{
 "cells": [
  {
   "cell_type": "code",
   "execution_count": 1,
   "id": "54bd6f75-a74a-4dc2-968b-3176e0d77c99",
   "metadata": {},
   "outputs": [],
   "source": [
    "import pandas as pd\n",
    "import matplotlib.pyplot as plt\n",
    "import seaborn as sns\n",
    "import re\n",
    "import numpy as np\n",
    "\n",
    "sns.set_style('darkgrid')\n",
    "\n",
    "df = pd.read_pickle('./food_data_cleaned.pkl')"
   ]
  },
  {
   "cell_type": "markdown",
   "id": "0e71d1a3-4784-4f14-960f-73be979e9765",
   "metadata": {},
   "source": [
    "# C. In-depth Exploratory Data Analysis\n",
    "Your task is to do an in-depth analysis of the organic vs. non-organic products distribution in the Open Food database. Look for terms such as “bio” and “organic” in the product names.\n",
    "## Total number of samples by country\n",
    "Countries with very small sample size should be dropped from this analysis as their results may not be statistically significant."
   ]
  },
  {
   "cell_type": "code",
   "execution_count": 2,
   "id": "8677dd85-3022-47b3-896a-083577d1a940",
   "metadata": {},
   "outputs": [
    {
     "data": {
      "text/html": [
       "<div>\n",
       "<style scoped>\n",
       "    .dataframe tbody tr th:only-of-type {\n",
       "        vertical-align: middle;\n",
       "    }\n",
       "\n",
       "    .dataframe tbody tr th {\n",
       "        vertical-align: top;\n",
       "    }\n",
       "\n",
       "    .dataframe thead th {\n",
       "        text-align: right;\n",
       "    }\n",
       "</style>\n",
       "<table border=\"1\" class=\"dataframe\">\n",
       "  <thead>\n",
       "    <tr style=\"text-align: right;\">\n",
       "      <th></th>\n",
       "      <th>alcohol_by_volume</th>\n",
       "      <th>barcode</th>\n",
       "      <th>calcium_per_hundred</th>\n",
       "      <th>calcium_unit</th>\n",
       "      <th>carbohydrates_per_hundred</th>\n",
       "      <th>carbohydrates_unit</th>\n",
       "      <th>cholesterol_per_hundred</th>\n",
       "      <th>cholesterol_unit</th>\n",
       "      <th>created_at</th>\n",
       "      <th>energy_kcal_per_hundred</th>\n",
       "      <th>...</th>\n",
       "      <th>sugars_per_hundred</th>\n",
       "      <th>sugars_unit</th>\n",
       "      <th>unit</th>\n",
       "      <th>updated_at</th>\n",
       "      <th>vitamin_a_iu_per_hundred</th>\n",
       "      <th>vitamin_a_iu_unit</th>\n",
       "      <th>vitamin_c_ascorbic_acid_per_hundred</th>\n",
       "      <th>vitamin_c_ascorbic_acid_unit</th>\n",
       "      <th>vitamin_d_d2_d3_international_units_per_hundred</th>\n",
       "      <th>vitamin_d_d2_d3_international_units_unit</th>\n",
       "    </tr>\n",
       "    <tr>\n",
       "      <th>country</th>\n",
       "      <th></th>\n",
       "      <th></th>\n",
       "      <th></th>\n",
       "      <th></th>\n",
       "      <th></th>\n",
       "      <th></th>\n",
       "      <th></th>\n",
       "      <th></th>\n",
       "      <th></th>\n",
       "      <th></th>\n",
       "      <th></th>\n",
       "      <th></th>\n",
       "      <th></th>\n",
       "      <th></th>\n",
       "      <th></th>\n",
       "      <th></th>\n",
       "      <th></th>\n",
       "      <th></th>\n",
       "      <th></th>\n",
       "      <th></th>\n",
       "      <th></th>\n",
       "    </tr>\n",
       "  </thead>\n",
       "  <tbody>\n",
       "    <tr>\n",
       "      <th>CH</th>\n",
       "      <td>16</td>\n",
       "      <td>19695</td>\n",
       "      <td>140</td>\n",
       "      <td>1</td>\n",
       "      <td>885</td>\n",
       "      <td>1</td>\n",
       "      <td>1</td>\n",
       "      <td>1</td>\n",
       "      <td>19687</td>\n",
       "      <td>723</td>\n",
       "      <td>...</td>\n",
       "      <td>686</td>\n",
       "      <td>1</td>\n",
       "      <td>6</td>\n",
       "      <td>19695</td>\n",
       "      <td>0</td>\n",
       "      <td>1</td>\n",
       "      <td>79</td>\n",
       "      <td>1</td>\n",
       "      <td>0</td>\n",
       "      <td>1</td>\n",
       "    </tr>\n",
       "    <tr>\n",
       "      <th>DE</th>\n",
       "      <td>1</td>\n",
       "      <td>832</td>\n",
       "      <td>5</td>\n",
       "      <td>1</td>\n",
       "      <td>322</td>\n",
       "      <td>1</td>\n",
       "      <td>0</td>\n",
       "      <td>1</td>\n",
       "      <td>832</td>\n",
       "      <td>409</td>\n",
       "      <td>...</td>\n",
       "      <td>257</td>\n",
       "      <td>1</td>\n",
       "      <td>3</td>\n",
       "      <td>832</td>\n",
       "      <td>0</td>\n",
       "      <td>1</td>\n",
       "      <td>4</td>\n",
       "      <td>1</td>\n",
       "      <td>0</td>\n",
       "      <td>1</td>\n",
       "    </tr>\n",
       "    <tr>\n",
       "      <th>FR</th>\n",
       "      <td>1</td>\n",
       "      <td>45</td>\n",
       "      <td>2</td>\n",
       "      <td>1</td>\n",
       "      <td>39</td>\n",
       "      <td>1</td>\n",
       "      <td>0</td>\n",
       "      <td>1</td>\n",
       "      <td>45</td>\n",
       "      <td>43</td>\n",
       "      <td>...</td>\n",
       "      <td>32</td>\n",
       "      <td>1</td>\n",
       "      <td>4</td>\n",
       "      <td>45</td>\n",
       "      <td>0</td>\n",
       "      <td>1</td>\n",
       "      <td>2</td>\n",
       "      <td>1</td>\n",
       "      <td>0</td>\n",
       "      <td>1</td>\n",
       "    </tr>\n",
       "    <tr>\n",
       "      <th>IT</th>\n",
       "      <td>1</td>\n",
       "      <td>229</td>\n",
       "      <td>5</td>\n",
       "      <td>1</td>\n",
       "      <td>143</td>\n",
       "      <td>1</td>\n",
       "      <td>0</td>\n",
       "      <td>1</td>\n",
       "      <td>229</td>\n",
       "      <td>176</td>\n",
       "      <td>...</td>\n",
       "      <td>112</td>\n",
       "      <td>1</td>\n",
       "      <td>3</td>\n",
       "      <td>229</td>\n",
       "      <td>0</td>\n",
       "      <td>1</td>\n",
       "      <td>0</td>\n",
       "      <td>1</td>\n",
       "      <td>0</td>\n",
       "      <td>1</td>\n",
       "    </tr>\n",
       "    <tr>\n",
       "      <th>UK</th>\n",
       "      <td>1</td>\n",
       "      <td>1</td>\n",
       "      <td>0</td>\n",
       "      <td>1</td>\n",
       "      <td>1</td>\n",
       "      <td>1</td>\n",
       "      <td>0</td>\n",
       "      <td>1</td>\n",
       "      <td>1</td>\n",
       "      <td>1</td>\n",
       "      <td>...</td>\n",
       "      <td>1</td>\n",
       "      <td>1</td>\n",
       "      <td>1</td>\n",
       "      <td>1</td>\n",
       "      <td>0</td>\n",
       "      <td>1</td>\n",
       "      <td>0</td>\n",
       "      <td>1</td>\n",
       "      <td>0</td>\n",
       "      <td>1</td>\n",
       "    </tr>\n",
       "    <tr>\n",
       "      <th>US</th>\n",
       "      <td>1</td>\n",
       "      <td>239760</td>\n",
       "      <td>792</td>\n",
       "      <td>1</td>\n",
       "      <td>5329</td>\n",
       "      <td>1</td>\n",
       "      <td>346</td>\n",
       "      <td>1</td>\n",
       "      <td>330</td>\n",
       "      <td>630</td>\n",
       "      <td>...</td>\n",
       "      <td>3639</td>\n",
       "      <td>1</td>\n",
       "      <td>2</td>\n",
       "      <td>341</td>\n",
       "      <td>1877</td>\n",
       "      <td>1</td>\n",
       "      <td>1012</td>\n",
       "      <td>1</td>\n",
       "      <td>132</td>\n",
       "      <td>1</td>\n",
       "    </tr>\n",
       "  </tbody>\n",
       "</table>\n",
       "<p>6 rows × 50 columns</p>\n",
       "</div>"
      ],
      "text/plain": [
       "         alcohol_by_volume  barcode  calcium_per_hundred  calcium_unit  \\\n",
       "country                                                                  \n",
       "CH                      16    19695                  140             1   \n",
       "DE                       1      832                    5             1   \n",
       "FR                       1       45                    2             1   \n",
       "IT                       1      229                    5             1   \n",
       "UK                       1        1                    0             1   \n",
       "US                       1   239760                  792             1   \n",
       "\n",
       "         carbohydrates_per_hundred  carbohydrates_unit  \\\n",
       "country                                                  \n",
       "CH                             885                   1   \n",
       "DE                             322                   1   \n",
       "FR                              39                   1   \n",
       "IT                             143                   1   \n",
       "UK                               1                   1   \n",
       "US                            5329                   1   \n",
       "\n",
       "         cholesterol_per_hundred  cholesterol_unit  created_at  \\\n",
       "country                                                          \n",
       "CH                             1                 1       19687   \n",
       "DE                             0                 1         832   \n",
       "FR                             0                 1          45   \n",
       "IT                             0                 1         229   \n",
       "UK                             0                 1           1   \n",
       "US                           346                 1         330   \n",
       "\n",
       "         energy_kcal_per_hundred  ...  sugars_per_hundred  sugars_unit  unit  \\\n",
       "country                           ...                                          \n",
       "CH                           723  ...                 686            1     6   \n",
       "DE                           409  ...                 257            1     3   \n",
       "FR                            43  ...                  32            1     4   \n",
       "IT                           176  ...                 112            1     3   \n",
       "UK                             1  ...                   1            1     1   \n",
       "US                           630  ...                3639            1     2   \n",
       "\n",
       "         updated_at  vitamin_a_iu_per_hundred  vitamin_a_iu_unit  \\\n",
       "country                                                            \n",
       "CH            19695                         0                  1   \n",
       "DE              832                         0                  1   \n",
       "FR               45                         0                  1   \n",
       "IT              229                         0                  1   \n",
       "UK                1                         0                  1   \n",
       "US              341                      1877                  1   \n",
       "\n",
       "         vitamin_c_ascorbic_acid_per_hundred  vitamin_c_ascorbic_acid_unit  \\\n",
       "country                                                                      \n",
       "CH                                        79                             1   \n",
       "DE                                         4                             1   \n",
       "FR                                         2                             1   \n",
       "IT                                         0                             1   \n",
       "UK                                         0                             1   \n",
       "US                                      1012                             1   \n",
       "\n",
       "         vitamin_d_d2_d3_international_units_per_hundred  \\\n",
       "country                                                    \n",
       "CH                                                     0   \n",
       "DE                                                     0   \n",
       "FR                                                     0   \n",
       "IT                                                     0   \n",
       "UK                                                     0   \n",
       "US                                                   132   \n",
       "\n",
       "         vitamin_d_d2_d3_international_units_unit  \n",
       "country                                            \n",
       "CH                                              1  \n",
       "DE                                              1  \n",
       "FR                                              1  \n",
       "IT                                              1  \n",
       "UK                                              1  \n",
       "US                                              1  \n",
       "\n",
       "[6 rows x 50 columns]"
      ]
     },
     "execution_count": 2,
     "metadata": {},
     "output_type": "execute_result"
    }
   ],
   "source": [
    "df.groupby('country').nunique()"
   ]
  },
  {
   "cell_type": "markdown",
   "id": "591c7c5d-d8f2-467c-8a49-3f21470b1a16",
   "metadata": {},
   "source": [
    "We will drop all countries but CH and US. We will also exclude rows where product_name_en is 'missing' as we replaced missing values by this value before, and this will not be helpful for analysis"
   ]
  },
  {
   "cell_type": "code",
   "execution_count": 3,
   "id": "480936a5-ba50-41bc-94f6-5136f6b701f6",
   "metadata": {},
   "outputs": [],
   "source": [
    "# Remove countries that are not CH or US\n",
    "df_organic = df[df.country.isin(['CH','US'])]\n",
    "# Remove useless product names\n",
    "missing_productname = (df_organic['product_name_en'] == 'missing_productname')\n",
    "df_organic = df_organic[~missing_productname]"
   ]
  },
  {
   "cell_type": "markdown",
   "id": "dacb04e1-809d-433e-8345-b848b8924b7f",
   "metadata": {
    "tags": []
   },
   "source": [
    "## Organic vs Non-organic\n",
    "Count the number of organic and non-organic products in each country. Is there a country with a higher percentage of organic products. \n",
    "\n",
    "We have to match entire words as after first inquiry, there was product names with PROBIOTICS in them that were matched using simple re.search on bio (not looking for whole words, but terms)\n",
    "\n",
    "looking also at US and CH law gives us further information\n",
    "\n",
    "- US law is clear https://www.ams.usda.gov/sites/default/files/media/4012.pdf the term “organic” includes both “organic” and its variants, e.g. “organics,” “organix,” “organik,” “organo-,” “organically,” etc. We have to exclude *made with organic* as this does not indicate necessarily organic product but rather 70% at least of organic ingredients\n",
    "- CH law is here https://www.bio-suisse.ch/dam/jcr:e3345e56-cc74-44ba-bc17-992a4ea28bd9/def_f_ltiquetage_des_denres_alimentaires_biologiques_2019_2.pdf\n",
    "\n",
    "***Bio** (biologique) peut figurer dans la dénomination spécifique si au moins 95 % des ingrédients sont d’origine biologique et si les exigences de l’ann. 3 de l’Ordonnance du DEFR sur l’agriculture biologique sont remplies (exceptions: cf. cas particuliers).\"*\n",
    "\n",
    "translates to \n",
    "\n",
    "*Organic (biological) may be included in the specific name if at least 95% of the ingredients are of organic origin of organic origin and if the requirements of Ann. 3 of the DEFR Ordinance on Organic Agriculture are met (exceptions: see special cases).*\n",
    "\n",
    "Additionnally, as i live in Switzerland i know that naturaplan from Coop products are always organic (https://www.coop.ch/en/inspiration-gifts/labels/naturaplan/c/m_1052)"
   ]
  },
  {
   "cell_type": "code",
   "execution_count": 4,
   "id": "545abcf4-3c33-4c1a-aaa4-ac3333367c4a",
   "metadata": {},
   "outputs": [
    {
     "data": {
      "text/html": [
       "<div>\n",
       "<style scoped>\n",
       "    .dataframe tbody tr th:only-of-type {\n",
       "        vertical-align: middle;\n",
       "    }\n",
       "\n",
       "    .dataframe tbody tr th {\n",
       "        vertical-align: top;\n",
       "    }\n",
       "\n",
       "    .dataframe thead th {\n",
       "        text-align: right;\n",
       "    }\n",
       "</style>\n",
       "<table border=\"1\" class=\"dataframe\">\n",
       "  <thead>\n",
       "    <tr style=\"text-align: right;\">\n",
       "      <th></th>\n",
       "      <th>product_name_en</th>\n",
       "      <th>organic_flag</th>\n",
       "      <th>country</th>\n",
       "    </tr>\n",
       "    <tr>\n",
       "      <th>id</th>\n",
       "      <th></th>\n",
       "      <th></th>\n",
       "      <th></th>\n",
       "    </tr>\n",
       "  </thead>\n",
       "  <tbody>\n",
       "    <tr>\n",
       "      <th>173292</th>\n",
       "      <td>ORGANICS ROASTED GARLIC BREAD</td>\n",
       "      <td>organic</td>\n",
       "      <td>US</td>\n",
       "    </tr>\n",
       "    <tr>\n",
       "      <th>71739</th>\n",
       "      <td>AMY'S, COOL SCOOPS, ORGANIC COCONUT MILK NON-D...</td>\n",
       "      <td>organic</td>\n",
       "      <td>US</td>\n",
       "    </tr>\n",
       "    <tr>\n",
       "      <th>81244</th>\n",
       "      <td>ORGANIC SPROUTED RISOTTO</td>\n",
       "      <td>organic</td>\n",
       "      <td>US</td>\n",
       "    </tr>\n",
       "    <tr>\n",
       "      <th>76498</th>\n",
       "      <td>ORGANIC ELBOW MACARONI &amp; CHEESE PASTA WITH CHE...</td>\n",
       "      <td>organic</td>\n",
       "      <td>US</td>\n",
       "    </tr>\n",
       "    <tr>\n",
       "      <th>260445</th>\n",
       "      <td>ORGANIC ROASTED RED PEPPER SOUP</td>\n",
       "      <td>organic</td>\n",
       "      <td>US</td>\n",
       "    </tr>\n",
       "  </tbody>\n",
       "</table>\n",
       "</div>"
      ],
      "text/plain": [
       "                                          product_name_en organic_flag country\n",
       "id                                                                            \n",
       "173292                      ORGANICS ROASTED GARLIC BREAD      organic      US\n",
       "71739   AMY'S, COOL SCOOPS, ORGANIC COCONUT MILK NON-D...      organic      US\n",
       "81244                            ORGANIC SPROUTED RISOTTO      organic      US\n",
       "76498   ORGANIC ELBOW MACARONI & CHEESE PASTA WITH CHE...      organic      US\n",
       "260445                    ORGANIC ROASTED RED PEPPER SOUP      organic      US"
      ]
     },
     "execution_count": 4,
     "metadata": {},
     "output_type": "execute_result"
    }
   ],
   "source": [
    "# Using method listed here https://stackoverflow.com/a/15863102\n",
    "# Create a function to check for the keywords in the product names and return 'Organic' if any are found\n",
    "def check_organic(name):\n",
    "    for keyword in organic_keywords:\n",
    "        if re.search(r\"\\b\" + keyword + r\"\\b\", name, re.IGNORECASE):\n",
    "            return 'organic'\n",
    "    return 'non-organic'\n",
    "\n",
    "# Create a new column called 'organic_flag' with a default value of 'non-organic'\n",
    "df_organic['organic_flag'] = 'non-organic'\n",
    "\n",
    "# Define the keywords to look for in the product names\n",
    "organic_keywords = ['bio','organi(c|cs|k|cally)','naturaplan']\n",
    "\n",
    "# Apply the function to the 'product_name_en' column and update the 'organic_flag' column\n",
    "df_organic['organic_flag'] = df_organic['product_name_en'].apply(check_organic)\n",
    "\n",
    "# Special case of made with organic as per USDA document\n",
    "df_organic['product_name_en_lower'] = df_organic['product_name_en'].str.lower()\n",
    "condition = df_organic['product_name_en_lower'].str.contains(\"made with organic\")\n",
    "\n",
    "# update the 'organic_flag' column to 'non-organic' if made with organic present\n",
    "df_organic.loc[condition, 'organic_flag'] = 'non-organic'\n",
    "\n",
    "df_organic[df_organic['organic_flag']=='organic'].loc[:,('product_name_en','organic_flag','country')].sample(5)"
   ]
  },
  {
   "cell_type": "markdown",
   "id": "0590b194-df36-4fdb-b032-edd85a7c4ce6",
   "metadata": {},
   "source": [
    "Here we drop duplicates based on product name, because we don't want to be double counting products in the distributions that follows."
   ]
  },
  {
   "cell_type": "code",
   "execution_count": 5,
   "id": "f53a8065-f30e-4156-87e4-8475b93008ba",
   "metadata": {},
   "outputs": [],
   "source": [
    "df_organic = df_organic.drop_duplicates(subset='product_name_en', keep='first')"
   ]
  },
  {
   "cell_type": "markdown",
   "id": "eb01fac9-e40d-4eff-a5ef-73759030b4b0",
   "metadata": {},
   "source": [
    "## Distributions of macronutrients\n",
    "Compare the distributions of the macronutrients between organic and non-organic products in each country.\n",
    "list of macronutrients from https://en.wikipedia.org/wiki/List_of_macronutrients is carbs, proteins, fat, fiber and alcohol."
   ]
  },
  {
   "cell_type": "code",
   "execution_count": 6,
   "id": "9e069bf5-af31-4a07-ba39-ffc8ed3a6a69",
   "metadata": {},
   "outputs": [],
   "source": [
    "macronutrients = ['carbohydrates_per_hundred',\n",
    "                  'protein_per_hundred',\n",
    "                  'fat_per_hundred',                  \n",
    "                 ]                  "
   ]
  },
  {
   "cell_type": "markdown",
   "id": "4585cbf0-cfe4-4f39-9293-04d41c358e53",
   "metadata": {},
   "source": [
    "### Boxplots Organic vs NonOrganic in CH and US"
   ]
  },
  {
   "cell_type": "code",
   "execution_count": 7,
   "id": "eb216f21-3ebe-4238-9566-092812a3c881",
   "metadata": {},
   "outputs": [
    {
     "data": {
      "image/png": "[encoded data removed]",
      "text/plain": [
       "<Figure size 900x300 with 3 Axes>"
      ]
     },
     "metadata": {},
     "output_type": "display_data"
    }
   ],
   "source": [
    "# Create a figure with subplots\n",
    "fig, axes = plt.subplots(nrows=1, ncols=len(macronutrients), figsize=(9, 3))\n",
    "\n",
    "for i, column in enumerate(macronutrients):\n",
    "    ax = axes[i]\n",
    "    # Boxplot for each country, color by organic and non-organic\n",
    "    sns.boxplot(x='country',\n",
    "                y=column,\n",
    "                hue='organic_flag',\n",
    "                data=df_organic,\n",
    "                ax=ax\n",
    "               )\n",
    "    \n",
    "    ax.set_title(column,fontdict={'fontsize': 10})           \n",
    "    ax.legend_.remove()\n",
    "    ax.set_ylabel('')\n",
    "    ax.set_xlabel('')\n",
    "    \n",
    "# Creating a single legend above subplots\n",
    "# ref https://stackoverflow.com/a/46921590\n",
    "handles, labels = ax.get_legend_handles_labels()\n",
    "fig.legend(handles, labels, loc='upper center', bbox_to_anchor=(0.5, 1.1), ncol=2)\n",
    "# Adding overall title\n",
    "fig.suptitle('Distributions of the macronutrients between organic and non-organic products in US and CH', y=1.2)\n",
    "\n",
    "plt.show()"
   ]
  },
  {
   "cell_type": "markdown",
   "id": "acf064b1-31f3-47e3-ad32-d2dc04f7e59a",
   "metadata": {},
   "source": [
    "We can observe from boxplot that \n",
    "* Carbs have approximatively similar distribution, slight higher both in organic and non-organic products in the US\n",
    "* Protein and fat have still a lot of outliers in them as we chose zscore for those columns (it was less restrictive).\n",
    "* Protein is more spread for CH in organic products vs CH non organic products and fat behaves opposite way. Organic products seems to have overall less fat and more proteins in CH. It is also true for fat in the US, not necessarily for proteins."
   ]
  },
  {
   "cell_type": "markdown",
   "id": "78a98775-3785-4634-aa92-0c43d6b5a252",
   "metadata": {},
   "source": [
    "### Investigating CH with density plot\n",
    "\n",
    "As an example we will have a closer look at organic vs non organic in CH products only using a kernel density estimate (KDE) from seaborn library to see more precisely by macronutrients."
   ]
  },
  {
   "cell_type": "code",
   "execution_count": 46,
   "id": "248a06d3-e64a-40f1-89ce-778743e11b9c",
   "metadata": {},
   "outputs": [
    {
     "data": {
      "image/png": "[encoded data removed]",
      "text/plain": [
       "<Figure size 1200x300 with 3 Axes>"
      ]
     },
     "metadata": {},
     "output_type": "display_data"
    }
   ],
   "source": [
    "# Create a figure with subplots\n",
    "fig, axes = plt.subplots(nrows=1, ncols=len(macronutrients), figsize=(12, 3))\n",
    "\n",
    "country = 'CH'\n",
    "# Iterate over the columns in macronutrients list\n",
    "for i, column in enumerate(macronutrients):\n",
    "    ax = axes[i]\n",
    "    # Plot kdeplot for each level of 'organic_flag' and 'country'\n",
    "    for organic_flag in df_organic['organic_flag'].unique():\n",
    "            \n",
    "        # Filter to a specific country and organic_flag\n",
    "        kdeplot_filter = (df_organic['country']==country) & (df_organic['organic_flag']==organic_flag)\n",
    "            \n",
    "        sns.kdeplot(data=df_organic[kdeplot_filter][column],\n",
    "                    ax=ax,\n",
    "                    shade=True,\n",
    "                    label=f\"{country}-{organic_flag}\"\n",
    "                   )\n",
    "    # Add title to each subplot\n",
    "    ax.set_title(column, fontdict={'fontsize': 10})    \n",
    "    ax.set_ylabel('')\n",
    "    # Have all x axis start at 0, as we have no negative nutritional values\n",
    "    ax.set_xlim(left=0)\n",
    "    ax.set_xlabel('')    \n",
    "\n",
    "# Creating a legend above subplots\n",
    "handles, labels = ax.get_legend_handles_labels()\n",
    "fig.legend(handles, labels, loc='upper center', bbox_to_anchor=(0.5, 1.1), ncol=2)\n",
    "\n",
    "# Adding overall title\n",
    "fig.suptitle('Distributions of the macronutrients in CH for organic and non organic products', y=1.2)\n",
    "\n",
    "plt.show()"
   ]
  },
  {
   "cell_type": "markdown",
   "id": "0c1b489e-fae1-4144-84b8-c49d9db02952",
   "metadata": {},
   "source": [
    "We can observe that\n",
    "* Non organic products in CH are generally more present in the region over 25-60g carbs per hundred.\n",
    "* Organic  products are more present in the 10-20g of proteins.\n",
    "* Fat products with more than 10g of fats are visibly around a 1/4-1/3 rarer in organic products distribution vs non organic."
   ]
  },
  {
   "cell_type": "markdown",
   "id": "8e575e80-5568-4894-b2f5-ce2f31346246",
   "metadata": {},
   "source": [
    "# D. Text Data\n",
    "## Longest ingredients list\n",
    "Find the product with the longest ingredients list, i.e. the largest number of ingredients. Print the product name and its ingredient list"
   ]
  },
  {
   "cell_type": "markdown",
   "id": "f11edc8f-88dd-4d0d-a89c-e58c71bffc68",
   "metadata": {},
   "source": [
    "### Context\n",
    "To be honest, the complexity of this question left me feeling lost.\n",
    "\n",
    "For instance \"CHERRIES, WATER, SUGAR, FOOD STARCH-MODIFIED (CORN AND ASCORBIC ACID (VITAMIN C) TO MAINTAIN COLOR, RED 40 COLOR.\"\n",
    "\n",
    "In this case \n",
    "* CHERRIES, WATER, SUGAR are straigthforwardly 3 different ingredients\n",
    "* FOOD STARCH-MODIFIED (CORN AND ASCORBIC ACID (VITAMIN C) TO MAINTAIN COLOR should be modified to FOOD STARCH-MODIFIED CORN AND ASCORBIC ACID (VITAMIN C)\n",
    "* We see the case of synonyms rising were VITAMIN C = ASCORBIC ACID, and of extracting information out parentheses\n",
    "\n",
    "https://www.kaggle.com/code/db102291/ingredient-list-parsing-with-nlp this was a big inspiration of what follows"
   ]
  },
  {
   "cell_type": "markdown",
   "id": "008993e3-ae61-496d-ac54-c0f9ad8d446c",
   "metadata": {},
   "source": [
    "### Removing duplicates\n",
    "We reduce dataframe to non missing values and remove duplicates based on ingredients_en."
   ]
  },
  {
   "cell_type": "code",
   "execution_count": 10,
   "id": "cbb9cf3f-4965-42cc-82c9-552511e28fe0",
   "metadata": {},
   "outputs": [],
   "source": [
    "df_ingredients = df.copy()"
   ]
  },
  {
   "cell_type": "code",
   "execution_count": 11,
   "id": "4d160807-8879-4fe3-a9e7-a72606df2dcd",
   "metadata": {},
   "outputs": [],
   "source": [
    "missing_ingredients = (df['ingredients_en'] == 'missing_ingredients')\n",
    "df_ingredients = df_ingredients[~missing_ingredients]\n",
    "df_ingredients = df_ingredients.drop_duplicates(subset='ingredients_en', keep='first')"
   ]
  },
  {
   "cell_type": "markdown",
   "id": "585eda43-3c1b-468f-b283-bd79d54cd79d",
   "metadata": {},
   "source": [
    "### Removing obvious error entries"
   ]
  },
  {
   "cell_type": "markdown",
   "id": "d53bc52d-0191-4494-94d9-a7da280ef8c9",
   "metadata": {},
   "source": [
    "We will first address case of those examples where a bracket such as ( or [ is opened but never closed\n",
    "\n",
    "Examples \n",
    "* 8046\tCRUST (ENRICHED WHEAT FLOUR [FLOUR NIACIN IRON\n",
    "* 8047\tsteamed basmati rice (98%), sunflower oil)\n",
    "\n",
    "We will define a function to measure how many rows are concerned and whether we can remove them to simplify analysis"
   ]
  },
  {
   "cell_type": "code",
   "execution_count": 12,
   "id": "6bb492d1-868a-4d2d-a5e8-1eb80f3a0f18",
   "metadata": {},
   "outputs": [],
   "source": [
    "def check_unbalanced_brackets(string) -> bool:\n",
    "    '''\n",
    "    Function expects a string as input and returns a boolean value\n",
    "    checks if all open brackets are correctly open and closed\n",
    "    returns True if brackets are not properly balanced\n",
    "    \n",
    "    example1 = \"CRUST (ENRICHED WHEAT FLOUR [FLOUR NIACIN IRON\" > True\n",
    "    example2 = \"CRUST (ENRICHED WHEAT FLOUR [FLOUR NIACIN IRON])\" > False\n",
    "    example3 = \"CRUST (ENRICHED WHEAT FLOUR [FLOUR NIACIN IRON)\" > True\n",
    "\n",
    "    '''\n",
    "    # Initialize an empty open_brackets_stack \n",
    "    # where we will store open brackets characters we find\n",
    "    open_brackets_stack = []\n",
    "    \n",
    "    # Create a dictionnary where we match close brackets against their open bracket\n",
    "    opposite_brackets = {')': '(', ']': '[', '}': '{'}\n",
    "    \n",
    "    for char in string:\n",
    "        # If the character is an open bracket, add it to the open_brackets_stack\n",
    "        if char in '([{':\n",
    "            open_brackets_stack.append(char)\n",
    "        # If the character is a close bracket\n",
    "        elif char in ')]}':\n",
    "            # Check if open_brackets_stack is not empty\n",
    "            if len(open_brackets_stack) > 0:\n",
    "                # If there are, check if last open bracket in open_brackets_stack matches close bracket\n",
    "                if open_brackets_stack[-1] == opposite_brackets[char]:\n",
    "                    # If it does, remove the last open bracket added to the open_brackets_stack\n",
    "                    open_brackets_stack.pop()\n",
    "                else:\n",
    "                    # If closed bracket does not match last open bracket, we flag ingredient_list as unparsable \n",
    "                    return True\n",
    "            else:\n",
    "                # If there is no open bracket opened, we flag ingredient_list as unparsable \n",
    "                return True\n",
    "\n",
    "    # If there are still open brackets left after matching associated close brackets, we flag ingredient_list as unparsable \n",
    "    if len(open_brackets_stack) > 0:\n",
    "        return True\n",
    "    else:\n",
    "        return False"
   ]
  },
  {
   "cell_type": "markdown",
   "id": "9139fda3-7b9d-44fc-92cd-16b49b76c801",
   "metadata": {},
   "source": [
    "Based on this function, we will count number of unique occurences of ingredients_en that we deem too complex to parse at this stage."
   ]
  },
  {
   "cell_type": "code",
   "execution_count": 13,
   "id": "0ccfadaa-b5e3-4e49-b7b5-e37c1cf8b8fd",
   "metadata": {},
   "outputs": [
    {
     "name": "stdout",
     "output_type": "stream",
     "text": [
      "We will remove 8229 ingredients out of 187038\n"
     ]
    }
   ],
   "source": [
    "# Applying custom function to create new boolean column\n",
    "df_ingredients['ingredients_unparsable'] = df_ingredients['ingredients_en'].apply(check_unbalanced_brackets)\n",
    "print('We will remove',\n",
    "      df_ingredients[df_ingredients['ingredients_unparsable'] == True].shape[0],\n",
    "      'ingredients out of',\n",
    "      df_ingredients.shape[0])"
   ]
  },
  {
   "cell_type": "code",
   "execution_count": 14,
   "id": "d868ef97-5823-4229-9d4b-ef66eb191501",
   "metadata": {},
   "outputs": [],
   "source": [
    "# Applying boolean mask\n",
    "df_ingredients = df_ingredients[df_ingredients['ingredients_unparsable'] == False]"
   ]
  },
  {
   "cell_type": "markdown",
   "id": "cdd80fb9-a173-4391-ab10-421ec0cd2ace",
   "metadata": {},
   "source": [
    "### Cleaning ingredients_en\n",
    "We will remove different parts of the ingredients_en so as to standardize for analysis. \n",
    "\n",
    "* Defining df_ingredients['ingredients'] as clean version of df_ingredients['ingredients_en']\n",
    "* Putting everything to lowercase.\n",
    "* We now standardize all open and close brackets to simplfy custom functions and follow up code. We can do this as we know from running custom function 'check_unbalanced_brackets' that all brackets are balanced and thus equivalent.\n",
    "* Our universal separator to distinguish ingredients will be comma. So we replace anything that acts as a separator by a comma."
   ]
  },
  {
   "cell_type": "code",
   "execution_count": 15,
   "id": "aaf6473a-4eae-46c0-b040-5e39ce101eaa",
   "metadata": {},
   "outputs": [],
   "source": [
    "# Replace all open and close brackets by ( or )\n",
    "df_ingredients['ingredients'] = df_ingredients['ingredients_en'].replace('[\\{\\[]', '(', regex=True)\n",
    "df_ingredients['ingredients'] = df_ingredients['ingredients'].replace('[\\}\\]]', ')', regex=True)\n",
    "# Lowercase\n",
    "df_ingredients['ingredients'] = df_ingredients['ingredients'].str.lower()"
   ]
  },
  {
   "cell_type": "markdown",
   "id": "5a60edd3-9573-4b78-8473-3b56a7ba911c",
   "metadata": {},
   "source": [
    "Removing percentage in indication as in *honey (3.0%)* so it becomes *honey*."
   ]
  },
  {
   "cell_type": "code",
   "execution_count": 16,
   "id": "2ce67246-ee2f-4ae1-a0b9-d72e30dd99a1",
   "metadata": {},
   "outputs": [],
   "source": [
    "# The part ,?\\.?;? makes the '.' or ',' or ';' character optionals\n",
    "df_ingredients['ingredients'] = df_ingredients['ingredients'].apply(lambda x: re.sub(r'\\(\\d*,?.?;?\\d*%\\)', '', x))"
   ]
  },
  {
   "cell_type": "markdown",
   "id": "7919a64a-f077-4cd5-80e6-4feab2bfbfca",
   "metadata": {},
   "source": [
    "Removing new line characters \\r carriage return and \\n line break "
   ]
  },
  {
   "cell_type": "code",
   "execution_count": 17,
   "id": "bdb124da-f809-47df-aa62-1e787f5ec7a6",
   "metadata": {},
   "outputs": [],
   "source": [
    "df_ingredients['ingredients'] = df_ingredients['ingredients'].apply(lambda x: re.sub(r'[\\r\\n]+', '', x))"
   ]
  },
  {
   "cell_type": "markdown",
   "id": "3ed88d6f-921f-4dcd-9f09-17e414339de9",
   "metadata": {},
   "source": [
    "At this stage, we will remove or replace common phrases that act as separator as in *pressed oranges and pureed bananas*, a good candidate to become *pressed oranges, pureed bananas*, or punctuation that acts as separator such as point or semicolon. Also converting ' and ' or ';' as separator ','.\n",
    "'enriched with'"
   ]
  },
  {
   "cell_type": "code",
   "execution_count": 18,
   "id": "360c9935-652b-4664-8db5-2606fdff212d",
   "metadata": {},
   "outputs": [],
   "source": [
    "df_ingredients['ingredients'] = df_ingredients['ingredients'].apply(lambda x: re.sub(r'( and |&|\\s\\.|\\.\\s|;|-)', ',', x))"
   ]
  },
  {
   "cell_type": "markdown",
   "id": "0962ab43-0d66-4162-9bac-55075f91ce39",
   "metadata": {
    "tags": []
   },
   "source": [
    "### Complexity of ingredients list\n",
    "\n",
    "Our goal now is to split remaining records into lists of sub ingredients where we are able to address nested ingredients.\n",
    "\n",
    "We introduce the notion of the complexity of an ingredient list, defined as the maximum of the complexity of each sub ingredient in list.\n",
    "\n",
    "The complexity of each sub ingredient is given by the maximum number of nested '()' we find in sub ingredient. Example\n",
    "\n",
    "* complexity of 0 : romaine lettuce \n",
    "* complexity of 1 : ()  - pepperoncini **(** pepperoncini, water, salt **)**\n",
    "* complexity of 2 : (()) - feta cheese **(** pasteurized milk, salt **(** sodium **)**, cheese culture **)**\n",
    "\n",
    "As we know brackets are now balanced, we can define a custom function that counts encountered non closed open brackets and determines complexity based on this."
   ]
  },
  {
   "cell_type": "code",
   "execution_count": 19,
   "id": "534f3272-d76c-4b91-87da-5b8e7b8d688c",
   "metadata": {},
   "outputs": [],
   "source": [
    "def complexity(ingredient):\n",
    "    '''\n",
    "    Input : a string\n",
    "    Returns an integer\n",
    "    '''\n",
    "    complexity = 0\n",
    "    max_complexity = 0\n",
    "    for char in ingredient:\n",
    "        ' Encounters open bracket\n",
    "        if char == '(':\n",
    "            complexity += 1\n",
    "        ' Encounters close bracket\n",
    "        elif char == ')':\n",
    "            complexity -= 1\n",
    "        max_complexity = max(max_complexity, complexity)\n",
    "    return max_complexity"
   ]
  },
  {
   "cell_type": "markdown",
   "id": "ec379980-399e-4c4d-a26e-04727e1657fb",
   "metadata": {},
   "source": [
    "We define a custom function to split ingredient list into a list of sub ingredients."
   ]
  },
  {
   "cell_type": "code",
   "execution_count": 20,
   "id": "d86b850e-e990-4e01-9f1b-20c84485bbea",
   "metadata": {},
   "outputs": [],
   "source": [
    "def parse_ingredients_list(ingredients_list):\n",
    "    '''\n",
    "    Input : a string\n",
    "    Returns : a list based on the number of nested ().\n",
    "    Everytime a comma is found outside an open and non-closed  '(' an element is added to the list    \n",
    "    \n",
    "    Example\n",
    "    'romaine lettuce , pepperoncini (pepperoncini, water, salt), feta cheese (pasteurized milk, salt (sodium), cheese culture)'\n",
    "    becomes \n",
    "    ['romaine lettuce ',\n",
    "    ' pepperoncini (pepperoncini, water, salt)',\n",
    "    ' feta cheese (pasteurized milk, salt (sodium), cheese culture)']\n",
    "    \n",
    "    '''\n",
    "    \n",
    "    # Create a count to keep track of open brackets\n",
    "    open_brackets_count = 0\n",
    "    # Create a variable to store the current substring\n",
    "    current_sub_ingredient = \"\"\n",
    "    # Create a list to store the final result\n",
    "    result = []\n",
    "    \n",
    "    # Iterate over each character in the string\n",
    "    for i, char in enumerate(ingredients_list):                           \n",
    "        \n",
    "        # If the character is an open bracket, add it to open_brackets_stack \n",
    "        if char == '(':\n",
    "            open_brackets_count += 1\n",
    "        # If the character is a close bracket, last element added to open_brackets_stack\n",
    "        elif char == ')':\n",
    "            open_brackets_count -= 1\n",
    "        \n",
    "        # The only time we want to stop adding character and reset substring\n",
    "        # when we find a ',' that is not inside a unclosed open bracket\n",
    "        if (open_brackets_count == 0) and (char == ','):\n",
    "            result.append(current_sub_ingredient)\n",
    "            current_sub_ingredient = \"\"\n",
    "        else:\n",
    "            current_sub_ingredient += char\n",
    "            # Special case when we reach last character in string\n",
    "            if i == len(ingredients_list) - 1:            \n",
    "                result.append(current_sub_ingredient)                 \n",
    "                \n",
    "    return result"
   ]
  },
  {
   "cell_type": "markdown",
   "id": "0065ae8a-f2b0-4cb1-8244-1d960390567b",
   "metadata": {},
   "source": [
    "We now create a new dataframe column that converts column 'ingredients' into a list of ingredients.\n",
    "\n",
    "Ingredients in that list have different level of complexity. And we want to identify what level of complexity are reached and at what volumes."
   ]
  },
  {
   "cell_type": "code",
   "execution_count": 21,
   "id": "332c6384-513a-4a03-9303-ce1ceaf0ec58",
   "metadata": {},
   "outputs": [],
   "source": [
    "df_ingredients['ingredients_list'] = df_ingredients['ingredients'].apply(parse_ingredients_list)"
   ]
  },
  {
   "cell_type": "markdown",
   "id": "04f2f974-d7e9-4a91-9e83-a457c1b4e795",
   "metadata": {},
   "source": [
    "Creating a custom function that calculates the complexity of an ingredient list, defined as the maximum of the complexity of each sub ingredient in list."
   ]
  },
  {
   "cell_type": "code",
   "execution_count": 22,
   "id": "383536c4-06f4-4c61-b92a-050cb0c4e3af",
   "metadata": {},
   "outputs": [],
   "source": [
    "def compute_complexity(ingredients_list):\n",
    "    '''\n",
    "    Input : a list of ingredient\n",
    "    Returns : an integer, which matches the highest complexity reach in ingredients_list\n",
    "    i.e. the maximum number of open/closed brackets () nested in an ingredient \n",
    "    \n",
    "    Example\n",
    "    ['romaine lettuce ',\n",
    "    ' pepperoncini (pepperoncini, water, salt)',\n",
    "    ' feta cheese (pasteurized milk, salt (sodium), cheese culture)']\n",
    "    This list if of complexity 2 due to last element.\n",
    "    '''\n",
    "    max_complexity_list = 0\n",
    "    \n",
    "    for ingredient in ingredients_list:\n",
    "        complexity_list = complexity(ingredient)\n",
    "        max_complexity_list = max(complexity_list, max_complexity_list)\n",
    "    return max_complexity_list"
   ]
  },
  {
   "cell_type": "code",
   "execution_count": 23,
   "id": "a9852a9b-ad2b-4313-a6d4-60022138b296",
   "metadata": {},
   "outputs": [],
   "source": [
    "df_ingredients['ingredients_complexity'] = df_ingredients['ingredients_list'].apply(compute_complexity)"
   ]
  },
  {
   "cell_type": "code",
   "execution_count": 24,
   "id": "a0d8fa43-84c7-4356-8c17-7e4f64fcc80f",
   "metadata": {},
   "outputs": [
    {
     "data": {
      "text/plain": [
       "ingredients_complexity\n",
       "0    50269\n",
       "1    90826\n",
       "2    32777\n",
       "3     4620\n",
       "4      301\n",
       "5       15\n",
       "6        1\n",
       "Name: id, dtype: int64"
      ]
     },
     "execution_count": 24,
     "metadata": {},
     "output_type": "execute_result"
    }
   ],
   "source": [
    "df_ingredients.groupby('ingredients_complexity')['id'].count()"
   ]
  },
  {
   "cell_type": "markdown",
   "id": "e8cd1d84-d542-46cf-9b97-39ed1dacd28f",
   "metadata": {},
   "source": [
    "The vast majority of ingredients_list have complexity levels below 3, so we will concentrate on this cases. I chose to exclude cases above 3 as they seem too complex and prone to errors."
   ]
  },
  {
   "cell_type": "code",
   "execution_count": 25,
   "id": "aa8114ce-01c8-4fc7-8cad-3b9ef33bda05",
   "metadata": {},
   "outputs": [
    {
     "name": "stdout",
     "output_type": "stream",
     "text": [
      "We will remove 4937 ingredients out of 178809\n"
     ]
    }
   ],
   "source": [
    "print('We will remove',\n",
    "      df_ingredients[df_ingredients['ingredients_complexity'] > 2].shape[0],\n",
    "      'ingredients out of',\n",
    "      df_ingredients.shape[0])"
   ]
  },
  {
   "cell_type": "code",
   "execution_count": 26,
   "id": "72ef0ede-39cf-40c1-ae77-2ee545c84773",
   "metadata": {},
   "outputs": [],
   "source": [
    "df_ingredients = df_ingredients[df_ingredients['ingredients_complexity'] <= 2]"
   ]
  },
  {
   "cell_type": "markdown",
   "id": "a198499a-cc59-4fd2-890e-6154050561ac",
   "metadata": {},
   "source": [
    "### Case ingredients_list complexity is 0\n",
    "\n",
    "We define a parent ingredient as an ingredient in a ingredient list which can be made of other ingredients.\n",
    "* in *salt (sodium)* **salt** in the parent ingredient\n",
    "* in *pepperoncini (pepperoncini, water, salt)* **pepperoncini** is the parent ingredient\n",
    "\n",
    "Case ingredients_list complexity is 0 is the easiest one as it means all ingredients in ingredients list are parent ingredients. Examples\n",
    "* ['Latte scremato pastorizzato', ' panna pastorizzata', ' sale da cucina', ' colture', ' caglio microbico.']\n",
    "* ['100% organic coconut water ']\n",
    "\n",
    "In this case, it is only a matter of removing punctuation, case, special characters."
   ]
  },
  {
   "cell_type": "markdown",
   "id": "23b50787-caba-4b3d-8404-f67d7765cb31",
   "metadata": {},
   "source": [
    "### Case ingredients_list complexity is 1\n",
    "\n",
    "Two different cases : BOM for Bill Of Materials, or Synonym\n",
    "\n",
    "**Case 1 : BOM**. Parent Children. Example *reduced fat cheddar cheese (pasteurized milk, cheese cultures, salt, enzymes)*.\n",
    "This is a case of a parent ingredient made of children ingredients. In this case, we are going to replace *reduced fat cheddar cheese*  by *pasteurized milk, cheese cultures, salt, enzymes*. 1 parent ingredient in this case will translate to 4 children ingredients.\n",
    "\n",
    "\n",
    "**Case 2 : Synonym**. Example ascorbic acid (vitamin c)\n",
    "In some cases, () are also used to specify Country of Origin *'70% Sardines (Sardina pilchardus, caught in the North-East Atlantic)'*. \n",
    "The synonym problem is a very complex one for multiple reasons. \n",
    "\n",
    "Lets take the case of additives like E100\tcurcumin. Considering E100 will be correctly written and not E 100 or E-100. It can be written as \n",
    "    * E100 (curcumin)\n",
    "    * curcumin (E100)\n",
    "    * curcumin\n",
    "    * E100\n",
    "* One way I can think about solving this would be to look a list of parent ingredients and look at the frequency. If a element is vastly more frequent than its synonym, in example *E100 (curcumin)*, lets say *E100* is vastly more used, i will always replace *curcumin* by *E100* or *E100 (curcumin)* and *curcumin(E100)* both by E100.\n",
    "* This implies that the parent list is fully cleaned so that ' curcumin' and 'curcumin' are counting towards same frequency.\n",
    "* This also open an area for error by chaining replacement\n",
    "    * To follow up on example, what do we do about 'sauce (curcumin)' do we chain it and replace by 'E100'\n",
    "    \n",
    "We chose not to tackle it as the moment and simply replace  *E100 (curcumin)* by *E100* and *curcumin (E100)* by *curcumin*, or in other words extract everything before open parenthesis.\n",
    "\n",
    "\n",
    "**Using a dictionnary** We chose to use a dictionnary to classify ingredients_list."
   ]
  },
  {
   "cell_type": "code",
   "execution_count": 27,
   "id": "c0a70a39-e8e8-414c-9694-5f568a8314ea",
   "metadata": {},
   "outputs": [
    {
     "name": "stdout",
     "output_type": "stream",
     "text": [
      "{'apple (fruit)': 'synonym', 'orange (fruit, citrus)': 'bom', 'banana': 'parent'}\n"
     ]
    }
   ],
   "source": [
    "def classify_ingredients_list(ingredients_list):\n",
    "    \"\"\"\n",
    "    This function takes a list as an input and transforms it into a dictionary \n",
    "    where each ingredient in the list is annotated\n",
    "        'bom' :  if the ingredient contains '(', and at least one ','\n",
    "        'synonym' :  if the ingredient contains '(', but no ','\n",
    "        'parent' : otherwise\n",
    "    \"\"\"\n",
    "    # Initialize an empty dictionary to store the results\n",
    "    result_dict = {}\n",
    "    \n",
    "    # Iterate through the input list\n",
    "    for ingredient in ingredients_list:\n",
    "        # Check if the ingredient contains at least one ','\n",
    "        if ',' in ingredient:\n",
    "            result_dict[ingredient] = 'bom'\n",
    "        # Check if remaining ingredient contains '('\n",
    "        elif '(' in ingredient:\n",
    "            result_dict[ingredient] = 'synonym'\n",
    "        # If the ingredient does not contain '(', or ','\n",
    "        else:\n",
    "            result_dict[ingredient] = 'parent'\n",
    "    \n",
    "    return result_dict\n",
    "\n",
    "# Test the function\n",
    "ingredients_list = ['apple (fruit)', 'orange (fruit, citrus)', 'banana']\n",
    "print(classify_ingredients_list(ingredients_list))\n",
    "# Output: {'apple (fruit)': 'synonym', 'orange (fruit, citrus)': 'bom', 'banana': 'parent'}"
   ]
  },
  {
   "cell_type": "markdown",
   "id": "98fed125-1056-4d22-87d9-f14d8359cba1",
   "metadata": {},
   "source": [
    "### Case ingredients_list complexity is 2\n",
    "\n",
    "The complexity of an ingredient list is given by the maximum complexity found in its ingredients.\n",
    "\n",
    "* To convert an ingredient list of complexity 2 to 1, we only have to transform **all ingredients of complexity 2** to a lower level of complexity.\n",
    "\n",
    "* Example in *spices (maltodextrin, spices (turmeric, coriander), acidifier (citric acid))*\n",
    "    * replacing *spices (turmeric, coriander)* by *turmeric, coriander*\n",
    "    * replacing *acidifier (citric acid)* by *acidifier* . We chose for this case of complexity = 2, to accept some risk of error and to simplify the case of synonyms by always take string before parenthesis, considering in most cases what is parenthesis brackets is a description or added information of the inside.\n",
    "    * Exploding BOMs, replacing synonyms. Ingredient list becomes *spices (turmeric, coriander)*. We are now at complexity 1\n",
    "    * Final explosion and go to complexity 0 and have list of parent ingredients *turmeric, coriander*\n",
    "    \n",
    "We define a custom function that reproduces this behavior based on a dictionnary as obtain in function classify_ingredients_list"
   ]
  },
  {
   "cell_type": "code",
   "execution_count": 28,
   "id": "2f20d888-a2db-4ad8-b4aa-628e6c729d37",
   "metadata": {},
   "outputs": [],
   "source": [
    "def simplify_ingredients(ingredient_dict):\n",
    "    \"\"\"\n",
    "    This function takes a dictionnary as an input and transforms it into a list \n",
    "    in which each key of dictionnary is treated based on values 'parent', 'synonym' or 'bom\n",
    "        - for 'parent' we take key of dictionnary\n",
    "        - for 'synonym' we take string before parenthesis\n",
    "        example replacing 'acidifier (citric acid)' by 'acidifier'\n",
    "        - for 'bom', we replace outside by inside of parenthesis\n",
    "        example 'spices (turmeric, coriander)' by 'turmeric, coriander'\n",
    "        \n",
    "    >> Output is a list\n",
    "    ingredients_dict = {'maltodextrin' : 'parent',\n",
    "                        'acidifier (citric acid)': 'synonym',\n",
    "                        'spices (turmeric, coriander)'   : 'bom'}\n",
    "    becomes a list reworked_ingredient = ['maltodextrin','acidifier','turmeric','coriander']\n",
    "    \"\"\"\n",
    "    \n",
    "    try:\n",
    "        reworked_ingredient = []\n",
    "\n",
    "        for key, value in ingredient_dict.items():                \n",
    "\n",
    "            # Easiest case\n",
    "            if value == 'parent':\n",
    "                reworked_ingredient.append(key)\n",
    "\n",
    "            # Synonyme case, we keep string before open parenthesis\n",
    "            elif value == 'synonym':                    \n",
    "                reworked_ingredient.append(key.split(\"(\")[0])\n",
    "\n",
    "            # BOM case, we explode BOM by separating each ingredient\n",
    "            elif value == 'bom':\n",
    "                bom_elements = key.split(\"(\")[1].split(\")\")[0]\n",
    "                for sub_ingredient in bom_elements.split(\",\"):\n",
    "                    reworked_ingredient.append(sub_ingredient)\n",
    "\n",
    "    except:\n",
    "        print(\"Error: \", ingredient_dict)\n",
    "\n",
    "    return reworked_ingredient"
   ]
  },
  {
   "cell_type": "code",
   "execution_count": 29,
   "id": "aae746ae-182c-40e3-b824-62b7cabdd522",
   "metadata": {},
   "outputs": [],
   "source": [
    "def reduce_complexity(ingredient_list):\n",
    "    '''\n",
    "    Takes as an input an ingredient_list of complexity 2\n",
    "    and returns it as an ingredient_list of complexity less than 2\n",
    "    \n",
    "    example ['preparation of spices (maltodextrin, salt spices (garlic powder, turmeric, coriander), acidifier (citric acid))']\n",
    "    becomes  ['maltodextrin', 'garlic powder', 'turmeric', 'coriander', 'acidifier']    \n",
    "    '''\n",
    "    # Iterate through each ingredient in the ingredient list\n",
    "    for index, ingredient in enumerate(ingredient_list):        \n",
    "        \n",
    "        # Check if the complexity of the ingredient is equal to 2           \n",
    "        if complexity(ingredient) == 2:           \n",
    "\n",
    "            # To reduce complexity to 1, we have to extract the substring within ()\n",
    "            # We did not make \\) as last charcter with $, as sometimes ingredient ends with '.' or some text\n",
    "            # We take a shortcut here by extracting all that is within ().\n",
    "            substring = re.search(r'\\((.*)\\)', ingredient).group(1)\n",
    "            \n",
    "            # Run the parse_ingredients_list function on the substring to transform it into a sublist\n",
    "            sublist = parse_ingredients_list(substring)\n",
    "            \n",
    "            # Run the classify_ingredients_list function on the sublist to convert it to a dictionary\n",
    "            ingredient_dict = classify_ingredients_list(sublist)     \n",
    "                      \n",
    "            # Convert dictionnary back to a list\n",
    "            reworked_ingredient = simplify_ingredients(ingredient_dict)\n",
    "            \n",
    "            # We take ingredient of complexity 2 out of list and replace it by reworked_ingredient\n",
    "            ingredient_list.pop(index)\n",
    "            ingredient_list[index:index] = reworked_ingredient\n",
    "       \n",
    "    return ingredient_list"
   ]
  },
  {
   "cell_type": "markdown",
   "id": "fc1d1636-a82d-4cb6-abb1-830a0d8f7c69",
   "metadata": {},
   "source": [
    "Apply custom function to rows where ingredient_complexity is 2"
   ]
  },
  {
   "cell_type": "code",
   "execution_count": 30,
   "id": "ba6f478a-4841-492d-a2b1-e7c262240a54",
   "metadata": {},
   "outputs": [],
   "source": [
    "complexity_is_two = (df_ingredients['ingredients_complexity'] == 2)\n",
    "df_ingredients.loc[complexity_is_two, 'ingredients_list'] = df_ingredients.loc[complexity_is_two, 'ingredients_list'].apply(reduce_complexity)"
   ]
  },
  {
   "cell_type": "markdown",
   "id": "d7e9ba1b-1cb6-4ec4-9fce-8e0175d8979c",
   "metadata": {},
   "source": [
    "We recompute complexity "
   ]
  },
  {
   "cell_type": "code",
   "execution_count": 31,
   "id": "b1e524cc-216c-4348-a31d-5557431596af",
   "metadata": {},
   "outputs": [],
   "source": [
    "df_ingredients['ingredients_complexity'] = df_ingredients['ingredients_list'].apply(compute_complexity)"
   ]
  },
  {
   "cell_type": "markdown",
   "id": "9cf22593-877f-4d96-9114-cf55c2d85c99",
   "metadata": {},
   "source": [
    "We can now also apply our dictionnary function to all rows in dataframe, as it works only when ingredients_complexity is lower or equal to 1"
   ]
  },
  {
   "cell_type": "code",
   "execution_count": 32,
   "id": "40f03c53-a191-4c2c-af82-5f7e104c18ef",
   "metadata": {},
   "outputs": [],
   "source": [
    "df_ingredients['ingredients_dict'] = df_ingredients['ingredients_list'].apply(classify_ingredients_list)"
   ]
  },
  {
   "cell_type": "markdown",
   "id": "44d0eb46-1faa-4290-9265-d79581d19bdc",
   "metadata": {},
   "source": [
    "### Single out ingredients\n",
    "We will now rework each elements in 'parent ingredients' list"
   ]
  },
  {
   "cell_type": "code",
   "execution_count": 33,
   "id": "f6099182-e33d-4f7f-bf1f-93f44197b879",
   "metadata": {},
   "outputs": [
    {
     "name": "stdout",
     "output_type": "stream",
     "text": [
      "Error:  {'crushed tomatoes ': 'parent', ' smoked bacon ': 'parent', ' pork (eu)': 'synonym', ' salt': 'parent', ' spices': 'parent', ' flavouring), onions , tomato semi,concentrate, water, olive oil , sugar, rice starch, parsley , salt, garlic, acidity corrector: lactic acid, red pepper , rosemary, bay leaf.': 'bom'}\n"
     ]
    }
   ],
   "source": [
    "df_ingredients['parents_ingredients'] = df_ingredients['ingredients_dict'].apply(simplify_ingredients)"
   ]
  },
  {
   "cell_type": "markdown",
   "id": "cf962e68-d965-4901-9fd3-4da99c60dd43",
   "metadata": {},
   "source": [
    "Our simplify_ingredients is not working only on dictionnary due to this part 'flavouring),'. As this is only one error, we consider it is okay."
   ]
  },
  {
   "cell_type": "markdown",
   "id": "e347cffa-5e0f-4a0d-8333-23b5553f437e",
   "metadata": {},
   "source": [
    "We now iterate within parents_ingredients lists and apply regex transformation for each ingredient within that list"
   ]
  },
  {
   "cell_type": "code",
   "execution_count": 34,
   "id": "d8bee04b-ad5f-4048-9587-7b93efd3e503",
   "metadata": {},
   "outputs": [],
   "source": [
    "for index, row in df_ingredients.iterrows():\n",
    "    # Get the current list of ingredients for the current row\n",
    "    current_ingredient_list = row['parents_ingredients']\n",
    "    # print(len(current_ingredient_list),current_ingredient_list)\n",
    "    \n",
    "    # Iterate over the current list of ingredients\n",
    "    for i, ingredient in enumerate(current_ingredient_list):\n",
    "        \n",
    "        # Remove anything before \":\" such as \"contains less than 2% of :\"\n",
    "        # Check if the ingredient string contains a colon\n",
    "        if \":\" in ingredient:           \n",
    "            new_ingredient = ingredient.split(\":\")[1]        \n",
    "        else:\n",
    "            new_ingredient = ingredient\n",
    "        \n",
    "        # Remove anything between contains and a %\n",
    "        new_ingredient = re.sub(r'contains.*\\d*[,.?;]?\\d*%\\s*', '', new_ingredient)\n",
    "        \n",
    "        # Remove anything after ' to ' as in \n",
    "        #'calcium disodium edta to preserve flavor'\n",
    "        new_ingredient = re.sub(r' to .*', '', new_ingredient)\n",
    "        \n",
    "        # Strip special characters\n",
    "        new_ingredient = re.sub(r'[^\\w\\s]', '', new_ingredient)\n",
    "        \n",
    "        # Strip all numerical values\n",
    "        new_ingredient = re.sub(r'\\d+\\.\\d+|\\d+', '', new_ingredient)\n",
    "        \n",
    "        # Strip whitespace from the beginning and end\n",
    "        new_ingredient = re.sub(r'^\\s+|\\s+$', '', new_ingredient)\n",
    "        \n",
    "        # Add the cleaned ingredient to the current list\n",
    "        current_ingredient_list[i] = new_ingredient\n",
    "    \n",
    "    df_ingredients.at[index, 'parents_ingredients'] = current_ingredient_list"
   ]
  },
  {
   "cell_type": "markdown",
   "id": "56f47b99-6d1f-498c-831e-eba8d91826a5",
   "metadata": {},
   "source": [
    "We create a new column called 'unique_ingredients' that contains the unique elements from 'parents_ingredients' lists. The conversion to an iterable with set() makes elements unique and we convert set back to a list with list()"
   ]
  },
  {
   "cell_type": "code",
   "execution_count": 35,
   "id": "cfe8f992-6d91-4fdd-9c55-96f8debbe15f",
   "metadata": {},
   "outputs": [],
   "source": [
    "df_ingredients['unique_ingredients'] = df_ingredients['parents_ingredients'].apply(lambda x: list(set(x)))\n",
    "df_ingredients['number_unique_ingredients'] = df_ingredients['unique_ingredients'].apply(lambda x: len(x))"
   ]
  },
  {
   "cell_type": "markdown",
   "id": "452788b9-f9ca-49b0-ae8d-486e2b2994df",
   "metadata": {},
   "source": [
    "### Getting longest list\n",
    "We will now get longest list of unique ingredients. We try and maximize readability of results using different print statement and joining lists"
   ]
  },
  {
   "cell_type": "code",
   "execution_count": 37,
   "id": "7edcb598-031c-4e2e-85f2-e0f8465b07d1",
   "metadata": {},
   "outputs": [
    {
     "name": "stdout",
     "output_type": "stream",
     "text": [
      "id\n",
      "255075    MINI DECADENT DESSERTS\n",
      "Name: product_name_en, dtype: object\n",
      "id\n",
      "255075    118\n",
      "Name: number_unique_ingredients, dtype: int64\n",
      "id\n",
      "255075    WATER, SUGAR, PALM OIL, HIGH FRUCTOSE CORN SYRUP, CORN SYRUP, COCOA (PROCESSED WITH ALKALI), MONO AND DIGLYCERIDES, POLYSORBATE 60, SALT, SOY LECITHIN, POTASSIUM SORBATE, CITRIC ACID, NATURAL AND ARTIFICIAL FLAVORS, PASTEURIZED MILK AND CREAM, CHEESE CULTURE, CAROB BEAN, XANTHAN GUM, GUAR GUM, COCONUT (PRESERVED WITH SODIUM METABISULFITE), DEXTROSE, CORN SYRUP SOLIDS, DRY EGG WHITES, WHEAT STARCH, FLOUR, NIACIN, REDUCED IRON, THIAMINE MONONITRATE, RIBOFLAVIN, FOLIC ACID, FOOD STARCH - MODIFIED, CORN STARCH, DRY WHEY, SOY FLOUR, MODIFIED CORN STARCH, SOYBEAN OIL, WHEY, BAKING SODA, SODIUM ALUMINUM PHOSPHATE, VITAL WHEAT GLUTEN, SORBITAN MONOSTEARATE, CALCIUM ACETATE, SODIUM STEAROYL LACTYLATE, NONFAT MILK, SODIUM BICARBONATE, WHOLE EGGS, FULLY REFINED SOYBEAN OIL, WALNUTS, POWDERED EGG YOLKS, NONFAT DRY MILK, POWDERED EGG WHITE, BAKING SODA, SODIUM ALUMINUM PHOSPHATE, ALUMINUM SULFATE, MONOCALCIUM PHOSPHATE, MALTODEXTRIN, PROPYLENE GLYCOL MONO AND DIESTERS OF FATS AND FATTY ACIDS, , SODIUM CASEINATE, XANTHAN GUM, DATEM, YELLOW 5 LAKE, VITAMIN A PALMITATE, VITAMIN D, ARTISAN FLOUR UNBLEACHED HARD WHEAT FLOUR, MALTED BARLEY FLOUR, GRANULATED SUGAR, MODIFIED TAPIOCA, DEXTROSE, TITANIUM DIOXIDE, CARRAGEENAN, GLUCONO DELTA LACTONE, SILICON DIOXIDE, YELLOW #5, YELLOW #6, CHERRIES, DEXTROSE, TAPIOCA DEXTRIN, SODIUM PROPIONATE, SODIUM BENZOATE, ALGIN, SODIUM CARBOXYMETHYLCELLULOSE, LOCUST BEAN GUM, RED 40, PROPYLENE GLYCOL, TRAGACANTH GUM, SODIUM ACID SULFATE, CAKE FLOUR, HIGH FRUCTOSE CORN SYRUP, SULFUR DIOXIDE, APRICOT KERNELS, CULTURED PASTEURIZED GRADE A MILK AND CREAM, ENZYMES, FRACTIONATED PALM KERNEL OIL, COCOA, MILK, HEAVY CREAM, SKIM MILK, COCOA POWDER PROCESSED WITH ALKALI, COCOA POWDER, WHEY POWDER, LACTOSE, NATURAL VANILLA EXTRACT, AGAR, LOCUST BEAN GUM, MONO AND DIGLYCERIDES, HYDROGENATED PALM KERNEL OIL, DEXTROSE, CARBOHYDRATE GUM, SOY PROTEIN ISOLATE, POLYGLYCEROL ESTERS OF FATTY ACIDS, SODIUM CITRATE, DISODIUM PHOSPHATE, XANTHAN GUM, COCONUT SUGAR, PROPYLENE GLYCOL, UNSWEETNED HAZELNUT PASTE, SNOW SUGAR DEXTROSE, CARBOHYDRATE GUM, XANTHAN GUM, ANNATTO, EGG WHITES, PECTIN, SODIUM PHOSPHATE, SODIUM META-BISULFITE, ALMONDS, SORBITOL.\n",
      "Name: ingredients_en, dtype: object\n",
      "Long ingredient list :  ['water', ' sugar', ' palm oil', ' high fructose corn syrup', ' corn syrup', ' cocoa (processed with alkali)', ' mono', 'diglycerides', ' polysorbate 60', ' salt', ' soy lecithin', ' potassium sorbate', ' citric acid', ' natural', 'artificial flavors', ' pasteurized milk', 'cream', ' cheese culture', ' carob bean', ' xanthan gum', ' guar gum', ' coconut (preserved with sodium metabisulfite)', ' dextrose', ' corn syrup solids', ' dry egg whites', ' wheat starch', ' flour', ' niacin', ' reduced iron', ' thiamine mononitrate', ' riboflavin', ' folic acid', ' food starch ', ' modified', ' corn starch', ' dry whey', ' soy flour', ' modified corn starch', ' soybean oil', ' whey', ' baking soda', ' sodium aluminum phosphate', ' vital wheat gluten', ' sorbitan monostearate', ' calcium acetate', ' sodium stearoyl lactylate', ' nonfat milk', ' sodium bicarbonate', ' whole eggs', ' fully refined soybean oil', ' walnuts', ' powdered egg yolks', ' nonfat dry milk', ' powdered egg white', ' baking soda', ' sodium aluminum phosphate', ' aluminum sulfate', ' monocalcium phosphate', ' maltodextrin', ' propylene glycol mono', 'diesters of fats', 'fatty acids', ' ', ' sodium caseinate', ' xanthan gum', ' datem', ' yellow 5 lake', ' vitamin a palmitate', ' vitamin d', ' artisan flour unbleached hard wheat flour', ' malted barley flour', ' granulated sugar', ' modified tapioca', ' dextrose', ' titanium dioxide', ' carrageenan', ' glucono delta lactone', ' silicon dioxide', ' yellow #5', ' yellow #6', ' cherries', ' dextrose', ' tapioca dextrin', ' sodium propionate', ' sodium benzoate', ' algin', ' sodium carboxymethylcellulose', ' locust bean gum', ' red 40', ' propylene glycol', ' tragacanth gum', ' sodium acid sulfate', ' cake flour', ' high fructose corn syrup', ' sulfur dioxide', ' apricot kernels', ' cultured pasteurized grade a milk', 'cream', ' enzymes', ' fractionated palm kernel oil', ' cocoa', ' milk', ' heavy cream', ' skim milk', ' cocoa powder processed with alkali', ' cocoa powder', ' whey powder', ' lactose', ' natural vanilla extract', ' agar', ' locust bean gum', ' mono', 'diglycerides', ' hydrogenated palm kernel oil', ' dextrose', ' carbohydrate gum', ' soy protein isolate', ' polyglycerol esters of fatty acids', ' sodium citrate', ' disodium phosphate', ' xanthan gum', ' coconut sugar', ' propylene glycol', ' unsweetned hazelnut paste', ' snow sugar dextrose', ' carbohydrate gum', ' xanthan gum', ' annatto', ' egg whites', ' pectin', ' sodium phosphate', ' sodium meta', 'bisulfite', ' almonds', ' sorbitol.']\n",
      "Unique ingredients list :  ['', 'artificial flavors', 'calcium acetate', 'vitamin a palmitate', 'nonfat dry milk', 'heavy cream', 'algin', 'cream', 'vital wheat gluten', 'whole eggs', 'silicon dioxide', 'sodium stearoyl lactylate', 'carob bean', 'powdered egg yolks', 'polysorbate', 'bisulfite', 'high fructose corn syrup', 'maltodextrin', 'sodium carboxymethylcellulose', 'soy flour', 'sodium benzoate', 'reduced iron', 'enzymes', 'fully refined soybean oil', 'potassium sorbate', 'sorbitan monostearate', 'carbohydrate gum', 'soy protein isolate', 'sodium meta', 'hydrogenated palm kernel oil', 'citric acid', 'guar gum', 'vitamin d', 'propylene glycol', 'sodium caseinate', 'yellow', 'cultured pasteurized grade a milk', 'baking soda', 'powdered egg white', 'modified corn starch', 'fatty acids', 'mono', 'nonfat milk', 'fractionated palm kernel oil', 'cocoa powder', 'sorbitol', 'annatto', 'apricot kernels', 'sugar', 'soy lecithin', 'propylene glycol mono', 'tragacanth gum', 'wheat starch', 'sodium bicarbonate', 'granulated sugar', 'agar', 'niacin', 'natural vanilla extract', 'modified', 'whey powder', 'folic acid', 'unsweetned hazelnut paste', 'food starch', 'water', 'sodium aluminum phosphate', 'coconut sugar', 'polyglycerol esters of fatty acids', 'monocalcium phosphate', 'artisan flour unbleached hard wheat flour', 'almonds', 'datem', 'dry egg whites', 'walnuts', 'sodium citrate', 'pectin', 'corn starch', 'malted barley flour', 'glucono delta lactone', 'natural', 'coconut', 'pasteurized milk', 'cheese culture', 'disodium phosphate', 'diglycerides', 'corn syrup', 'red', 'cocoa', 'lactose', 'aluminum sulfate', 'corn syrup solids', 'snow sugar dextrose', 'whey', 'salt', 'palm oil', 'sodium phosphate', 'yellow  lake', 'dry whey', 'soybean oil', 'modified tapioca', 'sodium acid sulfate', 'milk', 'cake flour', 'locust bean gum', 'xanthan gum', 'dextrose', 'skim milk', 'riboflavin', 'titanium dioxide', 'carrageenan', 'cocoa powder processed with alkali', 'tapioca dextrin', 'sulfur dioxide', 'diesters of fats', 'sodium propionate', 'flour', 'cherries', 'egg whites', 'thiamine mononitrate']\n"
     ]
    }
   ],
   "source": [
    "# Increase maximum column width to display full column in Jupyter Lab\n",
    "pd.options.display.max_colwidth = 1000000\n",
    "\n",
    "longest_ingredients_list = df_ingredients.sort_values(by='number_unique_ingredients', ascending=False).head(1)\n",
    "print(longest_ingredients_list['product_name_en'])\n",
    "print(longest_ingredients_list['number_unique_ingredients'])\n",
    "print(longest_ingredients_list['ingredients_en'])\n",
    "print('Long ingredient list : ',', '.join(longest_ingredients_list['ingredients_list'].astype(str)))\n",
    "print('Unique ingredients list : ',', '.join(longest_ingredients_list['unique_ingredients'].astype(str)))"
   ]
  },
  {
   "cell_type": "markdown",
   "id": "25a15dba-5bed-44bb-ae74-3d7df528767f",
   "metadata": {},
   "source": [
    "Our longest unique ingredient list is named 'MINI DECADENT DESSERTS' https://www.foodrepo.org/en/products/255075\n",
    "Our final list we see that special case of 'Mono- and diglycerides' that is splitted based on 'and'. We can also see that the longest list of ingredients is relatively straighforward with not a lot of parenthesis."
   ]
  },
  {
   "cell_type": "markdown",
   "id": "f2f3029e-39a8-4cc0-93d5-90d63b01ba96",
   "metadata": {
    "tags": []
   },
   "source": [
    "## Shortest ingredients list\n",
    "Find the products with the shortest ingredients list, i.e. the fewest ingredients. Display some examples and comment on your observation.\n",
    "This will be easier to display than longest ingredient list"
   ]
  },
  {
   "cell_type": "code",
   "execution_count": 38,
   "id": "a8aded18-d55a-4326-90e0-a96ccaeb3812",
   "metadata": {},
   "outputs": [
    {
     "data": {
      "text/html": [
       "<div>\n",
       "<style scoped>\n",
       "    .dataframe tbody tr th:only-of-type {\n",
       "        vertical-align: middle;\n",
       "    }\n",
       "\n",
       "    .dataframe tbody tr th {\n",
       "        vertical-align: top;\n",
       "    }\n",
       "\n",
       "    .dataframe thead th {\n",
       "        text-align: right;\n",
       "    }\n",
       "</style>\n",
       "<table border=\"1\" class=\"dataframe\">\n",
       "  <thead>\n",
       "    <tr style=\"text-align: right;\">\n",
       "      <th></th>\n",
       "      <th>product_name_en</th>\n",
       "      <th>ingredients_en</th>\n",
       "      <th>parents_ingredients</th>\n",
       "      <th>unique_ingredients</th>\n",
       "      <th>number_unique_ingredients</th>\n",
       "    </tr>\n",
       "    <tr>\n",
       "      <th>id</th>\n",
       "      <th></th>\n",
       "      <th></th>\n",
       "      <th></th>\n",
       "      <th></th>\n",
       "      <th></th>\n",
       "    </tr>\n",
       "  </thead>\n",
       "  <tbody>\n",
       "    <tr>\n",
       "      <th>89870</th>\n",
       "      <td>JUMBO OATS</td>\n",
       "      <td>PURE SCOTTISH PORRIDGE OATS 100%</td>\n",
       "      <td>[pure scottish porridge oats]</td>\n",
       "      <td>[pure scottish porridge oats]</td>\n",
       "      <td>1</td>\n",
       "    </tr>\n",
       "    <tr>\n",
       "      <th>287716</th>\n",
       "      <td>OAK AGED BALSAMIC VINEGAR</td>\n",
       "      <td>AGED CALIFORNIA BALSAMIC VINEGAR.</td>\n",
       "      <td>[aged california balsamic vinegar]</td>\n",
       "      <td>[aged california balsamic vinegar]</td>\n",
       "      <td>1</td>\n",
       "    </tr>\n",
       "    <tr>\n",
       "      <th>237890</th>\n",
       "      <td>ORGANIC WHOLE GRAIN CORN FLOUR</td>\n",
       "      <td>WHOLE GRAIN ORGANIC CORN.</td>\n",
       "      <td>[whole grain organic corn]</td>\n",
       "      <td>[whole grain organic corn]</td>\n",
       "      <td>1</td>\n",
       "    </tr>\n",
       "    <tr>\n",
       "      <th>313465</th>\n",
       "      <td>PREMIUM BLUEBERRIES</td>\n",
       "      <td>PREMIUM BLUEBERRIES</td>\n",
       "      <td>[premium blueberries]</td>\n",
       "      <td>[premium blueberries]</td>\n",
       "      <td>1</td>\n",
       "    </tr>\n",
       "    <tr>\n",
       "      <th>237902</th>\n",
       "      <td>WHOLE GRAIN TEFF</td>\n",
       "      <td>WHOLE GRAIN TEFF</td>\n",
       "      <td>[whole grain teff]</td>\n",
       "      <td>[whole grain teff]</td>\n",
       "      <td>1</td>\n",
       "    </tr>\n",
       "    <tr>\n",
       "      <th>278681</th>\n",
       "      <td>ORGANIC YOUNG JACKFRUIT</td>\n",
       "      <td>ORGANIC YOUNG JACKFRUIT.</td>\n",
       "      <td>[organic young jackfruit]</td>\n",
       "      <td>[organic young jackfruit]</td>\n",
       "      <td>1</td>\n",
       "    </tr>\n",
       "    <tr>\n",
       "      <th>37306</th>\n",
       "      <td>Pomegranate juice</td>\n",
       "      <td>pomegranate juice</td>\n",
       "      <td>[pomegranate juice]</td>\n",
       "      <td>[pomegranate juice]</td>\n",
       "      <td>1</td>\n",
       "    </tr>\n",
       "    <tr>\n",
       "      <th>237903</th>\n",
       "      <td>BUTTERMILK POWDER</td>\n",
       "      <td>DRIED SWEET CREAM BUTTERMILK (MILK).</td>\n",
       "      <td>[dried sweet cream buttermilk]</td>\n",
       "      <td>[dried sweet cream buttermilk]</td>\n",
       "      <td>1</td>\n",
       "    </tr>\n",
       "    <tr>\n",
       "      <th>287725</th>\n",
       "      <td>CLOVES WHOLE</td>\n",
       "      <td>CLOVES WHOLE</td>\n",
       "      <td>[cloves whole]</td>\n",
       "      <td>[cloves whole]</td>\n",
       "      <td>1</td>\n",
       "    </tr>\n",
       "    <tr>\n",
       "      <th>154722</th>\n",
       "      <td>EDEN, ORGANIC TART CHERRY JUICE CONCENTRATE</td>\n",
       "      <td>ORGANIC MONTMORENCY CHERRY JUICE CONCENTRATE.</td>\n",
       "      <td>[organic montmorency cherry juice concentrate]</td>\n",
       "      <td>[organic montmorency cherry juice concentrate]</td>\n",
       "      <td>1</td>\n",
       "    </tr>\n",
       "  </tbody>\n",
       "</table>\n",
       "</div>"
      ],
      "text/plain": [
       "                                    product_name_en  \\\n",
       "id                                                    \n",
       "89870                                    JUMBO OATS   \n",
       "287716                    OAK AGED BALSAMIC VINEGAR   \n",
       "237890               ORGANIC WHOLE GRAIN CORN FLOUR   \n",
       "313465                          PREMIUM BLUEBERRIES   \n",
       "237902                             WHOLE GRAIN TEFF   \n",
       "278681                      ORGANIC YOUNG JACKFRUIT   \n",
       "37306                             Pomegranate juice   \n",
       "237903                            BUTTERMILK POWDER   \n",
       "287725                                 CLOVES WHOLE   \n",
       "154722  EDEN, ORGANIC TART CHERRY JUICE CONCENTRATE   \n",
       "\n",
       "                                       ingredients_en  \\\n",
       "id                                                      \n",
       "89870                PURE SCOTTISH PORRIDGE OATS 100%   \n",
       "287716              AGED CALIFORNIA BALSAMIC VINEGAR.   \n",
       "237890                      WHOLE GRAIN ORGANIC CORN.   \n",
       "313465                            PREMIUM BLUEBERRIES   \n",
       "237902                               WHOLE GRAIN TEFF   \n",
       "278681                       ORGANIC YOUNG JACKFRUIT.   \n",
       "37306                               pomegranate juice   \n",
       "237903           DRIED SWEET CREAM BUTTERMILK (MILK).   \n",
       "287725                                   CLOVES WHOLE   \n",
       "154722  ORGANIC MONTMORENCY CHERRY JUICE CONCENTRATE.   \n",
       "\n",
       "                                   parents_ingredients  \\\n",
       "id                                                       \n",
       "89870                    [pure scottish porridge oats]   \n",
       "287716              [aged california balsamic vinegar]   \n",
       "237890                      [whole grain organic corn]   \n",
       "313465                           [premium blueberries]   \n",
       "237902                              [whole grain teff]   \n",
       "278681                       [organic young jackfruit]   \n",
       "37306                              [pomegranate juice]   \n",
       "237903                  [dried sweet cream buttermilk]   \n",
       "287725                                  [cloves whole]   \n",
       "154722  [organic montmorency cherry juice concentrate]   \n",
       "\n",
       "                                    unique_ingredients  \\\n",
       "id                                                       \n",
       "89870                    [pure scottish porridge oats]   \n",
       "287716              [aged california balsamic vinegar]   \n",
       "237890                      [whole grain organic corn]   \n",
       "313465                           [premium blueberries]   \n",
       "237902                              [whole grain teff]   \n",
       "278681                       [organic young jackfruit]   \n",
       "37306                              [pomegranate juice]   \n",
       "237903                  [dried sweet cream buttermilk]   \n",
       "287725                                  [cloves whole]   \n",
       "154722  [organic montmorency cherry juice concentrate]   \n",
       "\n",
       "        number_unique_ingredients  \n",
       "id                                 \n",
       "89870                           1  \n",
       "287716                          1  \n",
       "237890                          1  \n",
       "313465                          1  \n",
       "237902                          1  \n",
       "278681                          1  \n",
       "37306                           1  \n",
       "237903                          1  \n",
       "287725                          1  \n",
       "154722                          1  "
      ]
     },
     "execution_count": 38,
     "metadata": {},
     "output_type": "execute_result"
    }
   ],
   "source": [
    "columns_kept = ('product_name_en','ingredients_en','parents_ingredients','unique_ingredients','number_unique_ingredients')\n",
    "df_ingredients.loc[:,columns_kept].sort_values(by='number_unique_ingredients', ascending=False).tail(10)                      "
   ]
  },
  {
   "cell_type": "markdown",
   "id": "b171969b-8656-4f5d-bb9f-def220f276d4",
   "metadata": {},
   "source": [
    "As it could be expectedthe shortest ingredients list contain one unique ingredient, such as 'aged california balsamic vinegar' or 'whole grain organic corn'. They contain some description of what the single ingredient is like 'dried' or 'aged' or 'organic'. It could be argue to further simplifies and consider that 'aged vinegar' could be 'vinegar' but it would get very complex."
   ]
  },
  {
   "cell_type": "markdown",
   "id": "cf5c34b5-66d1-4fab-98e6-3bac712d465d",
   "metadata": {
    "tags": []
   },
   "source": [
    "## Most frequent ingredients\n",
    "Which are the most frequent ingredients in products? You will also choose an appropriate method to visualize your findings."
   ]
  },
  {
   "cell_type": "markdown",
   "id": "9d70b4b6-ec66-464c-aa9b-b33fa561a561",
   "metadata": {},
   "source": [
    "Now that we have clean and singled out ingredients into a column called unique_ingredients, we will explode list in each row it and insert it as a new series in a new dataframe.\n",
    "This will enable us to count frequency of each unique ingredient, and establish what ingredients are more uniquely present in each food product."
   ]
  },
  {
   "cell_type": "code",
   "execution_count": 39,
   "id": "a61a0b7b-54c5-47e4-80c4-f8de196fb7bf",
   "metadata": {},
   "outputs": [
    {
     "data": {
      "text/plain": [
       "2830156"
      ]
     },
     "execution_count": 39,
     "metadata": {},
     "output_type": "execute_result"
    }
   ],
   "source": [
    "# Creating a new dataframe called df_ingredients_freq \n",
    "# to store the unique ingredients from the original dataframe df_ingredients\n",
    "\n",
    "# Exploding the 'unique_ingredients' column in the df_ingredients dataframe \n",
    "# and storing the result in a new pandas Series called 'unique_ingredients'\n",
    "unique_ingredients = df_ingredients.explode('unique_ingredients', ignore_index=True)['unique_ingredients']\n",
    "\n",
    "# Creating a new dataframe df_ingredients_freq and storing the unique_ingredients Series\n",
    "df_ingredients_freq = pd.DataFrame({'ingredient': unique_ingredients})\n",
    "df_ingredients_freq.size"
   ]
  },
  {
   "cell_type": "markdown",
   "id": "03589778-38a0-4bcb-9730-ea2551a4c9c6",
   "metadata": {},
   "source": [
    "We now reduce this data frame to unique ingredient accross all food products. After having adding count we can take out duplicates, and add the share of total frequency for a given food product frequency"
   ]
  },
  {
   "cell_type": "code",
   "execution_count": 40,
   "id": "86ac4129-3c3e-4c44-9066-9aaa2b9e1b9b",
   "metadata": {},
   "outputs": [],
   "source": [
    "# Adding a column to df_ingredients_freq to store the frequency of each ingredient\n",
    "df_ingredients_freq['frequency'] = df_ingredients_freq.groupby('ingredient')['ingredient'].transform('count')\n",
    "\n",
    "# Removing duplicate rows\n",
    "df_ingredients_freq.drop_duplicates(inplace=True)\n",
    "\n",
    "# Sorting by frequency\n",
    "df_ingredients_freq.sort_values(by='frequency', ascending=False, inplace=True)\n",
    "\n",
    "# Adding a column to store the share of frequency across ingredients\n",
    "total_frequency = df_ingredients_freq['frequency'].sum()\n",
    "\n",
    "df_ingredients_freq['share'] = 100*df_ingredients_freq['frequency'] / total_frequency"
   ]
  },
  {
   "cell_type": "markdown",
   "id": "1b483f51-73f3-4a7c-96dd-b75dd9d89e50",
   "metadata": {},
   "source": [
    "We had a final cleaning step to remove potential errors where ingredients has less than 2 characters"
   ]
  },
  {
   "cell_type": "code",
   "execution_count": 41,
   "id": "74148bcf-4f9d-4452-ade7-dc7b89b49bf5",
   "metadata": {},
   "outputs": [
    {
     "name": "stdout",
     "output_type": "stream",
     "text": [
      "Removing  132  rows with incorrect ingredients out of  67287\n"
     ]
    }
   ],
   "source": [
    "# Create a boolean mask True when ingredient is shorter than 2 charcater\n",
    "mask = df_ingredients_freq['ingredient'].str.len() <= 2\n",
    "print('Removing ', df_ingredients_freq[mask].shape[0], ' rows with incorrect ingredients',\n",
    "     'out of ' , df_ingredients_freq.shape[0])\n",
    "\n",
    "# Drop the rows that match the mask\n",
    "df_ingredients_freq = df_ingredients_freq[~mask]"
   ]
  },
  {
   "cell_type": "markdown",
   "id": "a5d6d530-95ca-453f-af93-6b5afd8d2a5c",
   "metadata": {},
   "source": [
    "We can now plot our dataframe on a barplot. "
   ]
  },
  {
   "cell_type": "code",
   "execution_count": 42,
   "id": "7f73dac8-b51c-43a4-9101-0c7f7b0d7a38",
   "metadata": {},
   "outputs": [
    {
     "data": {
      "image/png": "[encoded data removed]",
      "text/plain": [
       "<Figure size 500x500 with 1 Axes>"
      ]
     },
     "metadata": {},
     "output_type": "display_data"
    }
   ],
   "source": [
    "df_plot = df_ingredients_freq.nlargest(25,'frequency')\n",
    "\n",
    "fig, axes = plt.subplots(figsize=(5, 5))\n",
    "\n",
    "# Create a horizontal bar chart\n",
    "sns.barplot(x='frequency',\n",
    "            y='ingredient',\n",
    "            data=df_plot,\n",
    "            orient='h',\n",
    "            color='#1f77b4'\n",
    "           )\n",
    "\n",
    "plt.xlabel('Frequency')\n",
    "plt.ylabel('Ingredient')\n",
    "\n",
    "plt.title('Most frequent unique ingredients')\n",
    "\n",
    "values = df_plot['frequency'].values\n",
    "proportions = 100* df_plot['share'].values\n",
    "labels = [f'{p[0]:,} ({p[1]:.1f}%)' for p in zip(values, proportions)]\n",
    "axes.bar_label(container=axes.containers[0], labels=labels)\n",
    "\n",
    "plt.yticks(fontsize=10)\n",
    "\n",
    "plt.show()"
   ]
  },
  {
   "cell_type": "markdown",
   "id": "40d92899-46ab-4115-ba4c-cdaa04f4cd72",
   "metadata": {},
   "source": [
    "We can see most frequent are salt, water, sugar by a large margin, followed by citric acid and folic acid.\n",
    "We see errors that would need to retreated such as 'natural flavor', 'mono', 'natural'"
   ]
  }
 ],
 "metadata": {
  "kernelspec": {
   "display_name": "Python [conda env:adsml] *",
   "language": "python",
   "name": "conda-env-adsml-py"
  },
  "language_info": {
   "codemirror_mode": {
    "name": "ipython",
    "version": 3
   },
   "file_extension": ".py",
   "mimetype": "text/x-python",
   "name": "python",
   "nbconvert_exporter": "python",
   "pygments_lexer": "ipython3",
   "version": "3.9.7"
  },
  "toc-autonumbering": true,
  "toc-showcode": false,
  "toc-showmarkdowntxt": false
 },
 "nbformat": 4,
 "nbformat_minor": 5
}
