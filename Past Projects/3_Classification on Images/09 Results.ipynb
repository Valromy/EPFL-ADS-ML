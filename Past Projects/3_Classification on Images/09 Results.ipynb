{
 "cells": [
  {
   "cell_type": "markdown",
   "id": "66dea6d3-4863-47bb-9560-e8cf4b28ba50",
   "metadata": {},
   "source": [
    "## 9. Final Comparison"
   ]
  },
  {
   "cell_type": "markdown",
   "id": "1dd46f5b-496b-41c8-9391-aed32ba88c5d",
   "metadata": {},
   "source": [
    "Collect the test accuracy of all models"
   ]
  },
  {
   "cell_type": "code",
   "execution_count": 1,
   "id": "1b42fe32-710f-44b1-acb2-31101c8eecf6",
   "metadata": {},
   "outputs": [],
   "source": [
    "import pandas as pd\n",
    "import seaborn as sns\n",
    "import matplotlib.pyplot as plt\n",
    "sns.set_style('whitegrid')"
   ]
  },
  {
   "cell_type": "markdown",
   "id": "5b7f6971-c4e4-480f-9bbd-53f5f7fada9f",
   "metadata": {},
   "source": [
    "### Results Dataframe"
   ]
  },
  {
   "cell_type": "markdown",
   "id": "e293322a-a143-4c4f-9be2-d99e54b795a0",
   "metadata": {},
   "source": [
    "As suggested we create a new dataframe, and we manually add results model by model for readability."
   ]
  },
  {
   "cell_type": "code",
   "execution_count": 2,
   "id": "becce5ba-a966-46a7-8075-15fc88d42d32",
   "metadata": {},
   "outputs": [
    {
     "name": "stdout",
     "output_type": "stream",
     "text": [
      "                 model  test_accuracy  train_accuracy\n",
      "0             Baseline         0.2200        0.234875\n",
      "1                 k-NN         0.9800        1.000000\n",
      "2        Decision Tree         0.9000        0.938543\n",
      "3  Logistic Regression         0.9600        0.987500\n",
      "4        Random Forest         0.9200        0.933175\n",
      "5           Linear SVM         0.9091        1.000000\n",
      "6              RBF SVM         0.9273        0.995238\n",
      "7           1-layer NN         0.9800        0.902180\n",
      "8           2-layer NN         0.9600        0.909294\n",
      "9                  CNN         0.6545        0.733100\n"
     ]
    }
   ],
   "source": [
    "df = pd.DataFrame(columns=['model', 'test_accuracy', 'train_accuracy'])\n",
    "\n",
    "df = df.append({\n",
    "    'model': 'Baseline',\n",
    "    'test_accuracy': 0.22,\n",
    "    'train_accuracy': 0.23487544483985764\n",
    "}, ignore_index=True)\n",
    "\n",
    "df = df.append({\n",
    "    'model': 'k-NN',\n",
    "    'test_accuracy': 0.98,\n",
    "    'train_accuracy': 1\n",
    "}, ignore_index=True)\n",
    "\n",
    "df = df.append({\n",
    "    'model': 'Decision Tree',\n",
    "    'test_accuracy': 0.90,\n",
    "    'train_accuracy': 0.938543\n",
    "}, ignore_index=True)\n",
    "\n",
    "df = df.append({\n",
    "    'model': 'Logistic Regression',\n",
    "    'test_accuracy': 0.96,\n",
    "    'train_accuracy': 0.9875\n",
    "}, ignore_index=True)\n",
    "\n",
    "df = df.append({\n",
    "    'model': 'Random Forest',\n",
    "    'test_accuracy': 0.92,\n",
    "    'train_accuracy': 0.933175\n",
    "}, ignore_index=True)\n",
    "\n",
    "df = df.append({\n",
    "    'model': 'Linear SVM',\n",
    "    'test_accuracy': 0.9091,\n",
    "    'train_accuracy': 1.0,\n",
    "}, ignore_index=True)\n",
    "\n",
    "df = df.append({\n",
    "    'model': 'RBF SVM',\n",
    "    'test_accuracy': 0.9273,\n",
    "    'train_accuracy': 0.995238\n",
    "}, ignore_index=True)\n",
    "\n",
    "df = df.append({\n",
    "    'model': '1-layer NN',\n",
    "    'test_accuracy': 0.98,\n",
    "    'train_accuracy': 0.9021801491681011\n",
    "}, ignore_index=True)\n",
    "\n",
    "df = df.append({\n",
    "    'model': '2-layer NN',\n",
    "    'test_accuracy': 0.96,\n",
    "    'train_accuracy': 0.9092943201376936\n",
    "}, ignore_index=True)\n",
    "\n",
    "df = df.append({\n",
    "    'model': 'CNN',\n",
    "    'test_accuracy': 0.6545,\n",
    "    'train_accuracy': 0.7331\n",
    "}, ignore_index=True)\n",
    "\n",
    "print(df)"
   ]
  },
  {
   "cell_type": "code",
   "execution_count": 3,
   "id": "504c3c79-ad12-474a-823c-64679e7dcb4a",
   "metadata": {},
   "outputs": [],
   "source": [
    "df = df.sort_values(by='test_accuracy')"
   ]
  },
  {
   "cell_type": "markdown",
   "id": "60c315ec-d9a8-4fb2-a82d-45cb69e5e6d1",
   "metadata": {},
   "source": [
    "### Plot"
   ]
  },
  {
   "cell_type": "markdown",
   "id": "9defaffd-b8f4-4d92-a7d3-a124c6eaa39f",
   "metadata": {},
   "source": [
    "We chose to plot baseline in gray and Convolutional network in green as it is not build directly on the 1280 features extracted out of MobileNet. Other we plot using colormap of Blues"
   ]
  },
  {
   "cell_type": "code",
   "execution_count": 4,
   "id": "dd4b23ee-2dec-43dc-80c5-6759a011d0c4",
   "metadata": {},
   "outputs": [
    {
     "data": {
      "image/png": "[encoded data removed]",
      "text/html": [
       "<div style=\"vertical-align: middle;\"><strong>Blues</strong> </div><div class=\"cmap\"><img alt=\"Blues colormap\" title=\"Blues\" style=\"border: 1px solid #555;\" src=\"data:image/png;base64,iVBORw0KGgoAAAANSUhEUgAAAgAAAABACAYAAABsv8+/AAAAFHRFWHRUaXRsZQBCbHVlcyBjb2xvcm1hcIbbCAEAAAAadEVYdERlc2NyaXB0aW9uAEJsdWVzIGNvbG9ybWFweISh5wAAADB0RVh0QXV0aG9yAE1hdHBsb3RsaWIgdjMuNC4zLCBodHRwczovL21hdHBsb3RsaWIub3JnCV3z0wAAADJ0RVh0U29mdHdhcmUATWF0cGxvdGxpYiB2My40LjMsIGh0dHBzOi8vbWF0cGxvdGxpYi5vcmcn+2z0AAAB00lEQVR4nO3WwU7rMAAAQcP//y8HpIQDJQi3Vopa3uHtzCVynDhxCdK+vL3v+xhj7J+HcTmMy+E4P47x7fnjqgfnp8ct57/Xe2z+3v397/Pz77ON+XvYfze/OP81vn/+9ntuV+89z6/2d1l/Hh/X397fdhwX+5zWOV3/5Pz8HqfXLe9fvN/8+yzuv/p7zPNX+zj5Ts6et1pvsY9717v6bk72cz4+2df2rOf87rmPr/vzH281f+91z1rnr5439u3rhp/jbRqvrnv6+F8953P8OgCAHAEAAEECAACCBAAABAkAAAgSAAAQJAAAIEgAAECQAACAIAEAAEECAACCBAAABAkAAAgSAAAQJAAAIEgAAECQAACAIAEAAEECAACCBAAABAkAAAgSAAAQJAAAIEgAAECQAACAIAEAAEECAACCBAAABAkAAAgSAAAQJAAAIEgAAECQAACAIAEAAEECAACCBAAABAkAAAgSAAAQJAAAIEgAAECQAACAIAEAAEECAACCBAAABAkAAAgSAAAQJAAAIEgAAECQAACAIAEAAEECAACCBAAABAkAAAgSAAAQJAAAIEgAAECQAACAIAEAAEECAACCBAAABAkAAAgSAAAQJAAAIOgDfCcYQIPsTRMAAAAASUVORK5CYII=\"></div><div style=\"vertical-align: middle; max-width: 514px; display: flex; justify-content: space-between;\"><div style=\"float: left;\"><div title=\"#f7fbffff\" style=\"display: inline-block; width: 1em; height: 1em; margin: 0; vertical-align: middle; border: 1px solid #555; background-color: #f7fbffff;\"></div> under</div><div style=\"margin: 0 auto; display: inline-block;\">bad <div title=\"#00000000\" style=\"display: inline-block; width: 1em; height: 1em; margin: 0; vertical-align: middle; border: 1px solid #555; background-color: #00000000;\"></div></div><div style=\"float: right;\">over <div title=\"#08306bff\" style=\"display: inline-block; width: 1em; height: 1em; margin: 0; vertical-align: middle; border: 1px solid #555; background-color: #08306bff;\"></div></div>"
      ],
      "text/plain": [
       "<matplotlib.colors.LinearSegmentedColormap at 0x246a336e820>"
      ]
     },
     "execution_count": 4,
     "metadata": {},
     "output_type": "execute_result"
    }
   ],
   "source": [
    "plt.cm.Blues"
   ]
  },
  {
   "cell_type": "code",
   "execution_count": 5,
   "id": "df7de1bc-5421-490c-a26f-c309255c2923",
   "metadata": {},
   "outputs": [],
   "source": [
    "colors = {'Baseline': 'gray', 'CNN': 'green'}\n",
    "for i, model in enumerate(df['model'].unique()):\n",
    "    if model not in colors:\n",
    "        colors[model] = plt.cm.Blues(i / len(df['model'].unique()))"
   ]
  },
  {
   "cell_type": "code",
   "execution_count": 6,
   "id": "523dd793-002d-4bbd-8b9b-c06ccc57a069",
   "metadata": {},
   "outputs": [
    {
     "data": {
      "image/png": "[encoded data removed]",
      "text/plain": [
       "<Figure size 600x400 with 1 Axes>"
      ]
     },
     "metadata": {},
     "output_type": "display_data"
    }
   ],
   "source": [
    "fig, ax = plt.subplots(figsize=(6,4))\n",
    "\n",
    "ax.barh(\n",
    "    y=df['model'],\n",
    "    width=df['test_accuracy'],\n",
    "    color=[colors[model] for model in df['model']]\n",
    ")\n",
    "\n",
    "# Add data labels\n",
    "for i, test_accuracy in enumerate(df['test_accuracy']):\n",
    "    ax.text(test_accuracy + 0.02, i, str(round(test_accuracy, 2)), va='center')\n",
    "\n",
    "# Clean Chart, no gridlines \n",
    "plt.grid(False)\n",
    "sns.despine()\n",
    "\n",
    "ax.set_xlabel('Test Accuracy')\n",
    "ax.set_title('Model Test Accuracies')\n",
    "plt.show()"
   ]
  },
  {
   "cell_type": "markdown",
   "id": "64c79622-34fa-4f32-8137-6925661292a5",
   "metadata": {},
   "source": [
    "### Conclusion"
   ]
  },
  {
   "cell_type": "markdown",
   "id": "0a5f5f3f-9b94-4de8-aef7-d86871330c68",
   "metadata": {},
   "source": [
    "What comparative performances show is\n",
    "* Classification models based on high level features extracted using transfer learning show far better performance.\n",
    "\n",
    "Using transfer learning to extract high-level features can significantly improve the performance of classification models. Transfer learning allows models to leverage pre-trained networks that have already learned useful features from large datasets. \n",
    "\n",
    "* There is no gain in performance from increasing complexity of models.\n",
    "\n",
    "Simpler models like one input-one output neuronal network and kNN neighbors outperforms more complex models. This is because simpler models are less prone to overfitting and can generalize better to new data. Additionally, simpler models are often faster to train and require less computational resources.\n",
    "\n",
    "* Beating classification on features extracted via transfer learning seems impossible.\n",
    "\n",
    "With normal computational capacities and time, it feels impossible to reproduce level of accuracy we get from transfer learning."
   ]
  }
 ],
 "metadata": {
  "kernelspec": {
   "display_name": "Python [conda env:adsml] *",
   "language": "python",
   "name": "conda-env-adsml-py"
  },
  "language_info": {
   "codemirror_mode": {
    "name": "ipython",
    "version": 3
   },
   "file_extension": ".py",
   "mimetype": "text/x-python",
   "name": "python",
   "nbconvert_exporter": "python",
   "pygments_lexer": "ipython3",
   "version": "3.9.16"
  }
 },
 "nbformat": 4,
 "nbformat_minor": 5
}
